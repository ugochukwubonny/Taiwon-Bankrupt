{
 "cells": [
  {
   "cell_type": "markdown",
   "id": "d3ebb806",
   "metadata": {},
   "source": [
    "# Taiwon Bankrupt data(json)\n",
    "\n",
    "### Imbalanced Data.\n",
    "\n",
    "In this lesson, i am going to explore some of the features of the dataset, use visualizations to help me understand those features, and develop a model that solves the problem of imbalanced data by under- and over-sampling."
   ]
  },
  {
   "cell_type": "markdown",
   "id": "436c4341",
   "metadata": {},
   "source": [
    "**Importing Libraries**"
   ]
  },
  {
   "cell_type": "code",
   "execution_count": 1,
   "id": "e80bf981",
   "metadata": {},
   "outputs": [],
   "source": [
    "import json\n",
    "import pandas as pd\n",
    "import matplotlib.pyplot as plt\n",
    "import plotly.express as px\n",
    "import seaborn as sns\n",
    "import pickle\n",
    "\n",
    "from imblearn.over_sampling import RandomOverSampler\n",
    "from imblearn.under_sampling import RandomUnderSampler\n",
    "from sklearn.metrics import ConfusionMatrixDisplay\n",
    "from sklearn.model_selection import train_test_split\n",
    "from sklearn.impute import SimpleImputer\n",
    "from sklearn.pipeline import Pipeline, make_pipeline\n",
    "from sklearn.tree import DecisionTreeClassifier"
   ]
  },
  {
   "cell_type": "markdown",
   "id": "3ddc8f16",
   "metadata": {},
   "source": [
    "**Creating a Wrangling Function**"
   ]
  },
  {
   "cell_type": "code",
   "execution_count": 2,
   "id": "6142fcc4",
   "metadata": {},
   "outputs": [],
   "source": [
    "def wrangle(file_path):\n",
    "    df = pd.read_json(file_path)\n",
    "    \n",
    "    df [\"bankrupt\"] = df[\"Bankrupt?\"]>0\n",
    "    \n",
    "    df.drop(columns=[\"Bankrupt?\", \"Total expense\", \"Total income\", \"Current Liabilities\", \"Inventory\", \"Working Capital\", \"Current Assets\", \"Quick Assets\", \"Cash\",\n",
    "                \"Inventory and accounts receivable\", \"Net profit before tax\", \"Operating profit\", \"Contingent liabilities\", \"Net worth\",\n",
    "                 \"Total debt\", \"Non-industry income and expenditure\"], inplace=True)\n",
    "    \n",
    "    return df"
   ]
  },
  {
   "cell_type": "code",
   "execution_count": 5,
   "id": "4c034564",
   "metadata": {},
   "outputs": [
    {
     "name": "stdout",
     "output_type": "stream",
     "text": [
      "<class 'pandas.core.frame.DataFrame'>\n",
      "RangeIndex: 6819 entries, 0 to 6818\n",
      "Data columns (total 77 columns):\n",
      " #   Column                                                   Non-Null Count  Dtype  \n",
      "---  ------                                                   --------------  -----  \n",
      " 0   ROA(C) before interest and depreciation before interest  6819 non-null   float64\n",
      " 1   ROA(A) before interest and % after tax                   6819 non-null   float64\n",
      " 2   ROA(B) before interest and depreciation after tax        6819 non-null   float64\n",
      " 3   Operating Gross Margin                                   6819 non-null   float64\n",
      " 4   Realized Sales Gross Margin                              6819 non-null   float64\n",
      " 5   Operating Profit Rate                                    6819 non-null   float64\n",
      " 6   Pre-tax net Interest Rate                                6819 non-null   float64\n",
      " 7   After-tax net Interest Rate                              6819 non-null   float64\n",
      " 8   Continuous interest rate (after tax)                     6819 non-null   float64\n",
      " 9   Operating Expense Rate                                   6819 non-null   float64\n",
      " 10  Research and development expense rate                    6819 non-null   float64\n",
      " 11  Cash flow rate                                           6819 non-null   float64\n",
      " 12  Interest-bearing debt interest rate                      6819 non-null   float64\n",
      " 13  Tax rate (A)                                             6819 non-null   float64\n",
      " 14  Net Value Per Share (B)                                  6819 non-null   float64\n",
      " 15  Net Value Per Share (A)                                  6819 non-null   float64\n",
      " 16  Net Value Per Share (C)                                  6819 non-null   float64\n",
      " 17  Persistent EPS in the Last Four Seasons                  6819 non-null   float64\n",
      " 18  Cash Flow Per Share                                      6819 non-null   float64\n",
      " 19  Revenue Per Share (Yuan ¥)                               6819 non-null   float64\n",
      " 20  Operating Profit Per Share (Yuan ¥)                      6819 non-null   float64\n",
      " 21  Per Share Net profit before tax (Yuan ¥)                 6819 non-null   float64\n",
      " 22  Realized Sales Gross Profit Growth Rate                  6819 non-null   float64\n",
      " 23  Operating Profit Growth Rate                             6819 non-null   float64\n",
      " 24  After-tax Net Profit Growth Rate                         6819 non-null   float64\n",
      " 25  Regular Net Profit Growth Rate                           6819 non-null   float64\n",
      " 26  Continuous Net Profit Growth Rate                        6819 non-null   float64\n",
      " 27  Total Asset Growth Rate                                  6819 non-null   float64\n",
      " 28  Net Value Growth Rate                                    6819 non-null   float64\n",
      " 29  Total Asset Return Growth Rate Ratio                     6819 non-null   float64\n",
      " 30  Cash Reinvestment %                                      6819 non-null   float64\n",
      " 31  Current Ratio                                            6819 non-null   float64\n",
      " 32  Quick Ratio                                              6819 non-null   float64\n",
      " 33  Interest Expense Ratio                                   6819 non-null   float64\n",
      " 34  Debt ratio %                                             6819 non-null   float64\n",
      " 35  Long-term fund suitability ratio (A)                     6819 non-null   float64\n",
      " 36  Borrowing dependency                                     6819 non-null   float64\n",
      " 37  Total Asset Turnover                                     6819 non-null   float64\n",
      " 38  Accounts Receivable Turnover                             6819 non-null   float64\n",
      " 39  Average Collection Days                                  6819 non-null   float64\n",
      " 40  Inventory Turnover Rate (times)                          6819 non-null   float64\n",
      " 41  Fixed Assets Turnover Frequency                          6819 non-null   float64\n",
      " 42  Net Worth Turnover Rate (times)                          6819 non-null   float64\n",
      " 43  Revenue per person                                       6819 non-null   float64\n",
      " 44  Operating profit per person                              6819 non-null   float64\n",
      " 45  Allocation rate per person                               6819 non-null   float64\n",
      " 46  Working Capital to Total Assets                          6819 non-null   float64\n",
      " 47  Current Liability to Assets                              6819 non-null   float64\n",
      " 48  Operating Funds to Liability                             6819 non-null   float64\n",
      " 49  Long-term Liability to Current Assets                    6819 non-null   float64\n",
      " 50  Retained Earnings to Total Assets                        6819 non-null   float64\n",
      " 51  Current Asset Turnover Rate                              6819 non-null   float64\n",
      " 52  Quick Asset Turnover Rate                                6819 non-null   float64\n",
      " 53  Working capitcal Turnover Rate                           6819 non-null   float64\n",
      " 54  Cash Turnover Rate                                       6819 non-null   float64\n",
      " 55  Cash Flow to Sales                                       6819 non-null   float64\n",
      " 56  Fixed Assets to Assets                                   6819 non-null   float64\n",
      " 57  Current Liability to Liability                           6819 non-null   float64\n",
      " 58  Current Liability to Equity                              6819 non-null   float64\n",
      " 59  Equity to Long-term Liability                            6819 non-null   float64\n",
      " 60  Cash Flow to Total Assets                                6819 non-null   float64\n",
      " 61  Cash Flow to Liability                                   6819 non-null   float64\n",
      " 62  CFO to Assets                                            6819 non-null   float64\n",
      " 63  Cash Flow to Equity                                      6819 non-null   float64\n",
      " 64  Current Liability to Current Assets                      6819 non-null   float64\n",
      " 65  Liability-Assets Flag                                    6819 non-null   int64  \n",
      " 66  Net Income to Total Assets                               6819 non-null   float64\n",
      " 67  Total assets to GNP price                                6819 non-null   float64\n",
      " 68  No-credit Interval                                       6819 non-null   float64\n",
      " 69  Gross Profit to Sales                                    6819 non-null   float64\n",
      " 70  Net Income to Stockholder's Equity                       6819 non-null   float64\n",
      " 71  Liability to Equity                                      6819 non-null   float64\n",
      " 72  Degree of Financial Leverage (DFL)                       6819 non-null   float64\n",
      " 73  Interest Coverage Ratio (Interest expense to EBIT)       6819 non-null   float64\n",
      " 74  Net Income Flag                                          6819 non-null   int64  \n",
      " 75  Equity to Liability                                      6819 non-null   float64\n",
      " 76  bankrupt                                                 6819 non-null   bool   \n",
      "dtypes: bool(1), float64(74), int64(2)\n",
      "memory usage: 4.0 MB\n",
      "None\n"
     ]
    },
    {
     "data": {
      "text/html": [
       "<div>\n",
       "<style scoped>\n",
       "    .dataframe tbody tr th:only-of-type {\n",
       "        vertical-align: middle;\n",
       "    }\n",
       "\n",
       "    .dataframe tbody tr th {\n",
       "        vertical-align: top;\n",
       "    }\n",
       "\n",
       "    .dataframe thead th {\n",
       "        text-align: right;\n",
       "    }\n",
       "</style>\n",
       "<table border=\"1\" class=\"dataframe\">\n",
       "  <thead>\n",
       "    <tr style=\"text-align: right;\">\n",
       "      <th></th>\n",
       "      <th>ROA(C) before interest and depreciation before interest</th>\n",
       "      <th>ROA(A) before interest and % after tax</th>\n",
       "      <th>ROA(B) before interest and depreciation after tax</th>\n",
       "      <th>Operating Gross Margin</th>\n",
       "      <th>Realized Sales Gross Margin</th>\n",
       "      <th>Operating Profit Rate</th>\n",
       "      <th>Pre-tax net Interest Rate</th>\n",
       "      <th>After-tax net Interest Rate</th>\n",
       "      <th>Continuous interest rate (after tax)</th>\n",
       "      <th>Operating Expense Rate</th>\n",
       "      <th>...</th>\n",
       "      <th>Total assets to GNP price</th>\n",
       "      <th>No-credit Interval</th>\n",
       "      <th>Gross Profit to Sales</th>\n",
       "      <th>Net Income to Stockholder's Equity</th>\n",
       "      <th>Liability to Equity</th>\n",
       "      <th>Degree of Financial Leverage (DFL)</th>\n",
       "      <th>Interest Coverage Ratio (Interest expense to EBIT)</th>\n",
       "      <th>Net Income Flag</th>\n",
       "      <th>Equity to Liability</th>\n",
       "      <th>bankrupt</th>\n",
       "    </tr>\n",
       "  </thead>\n",
       "  <tbody>\n",
       "    <tr>\n",
       "      <th>0</th>\n",
       "      <td>0.370594</td>\n",
       "      <td>0.424389</td>\n",
       "      <td>0.405750</td>\n",
       "      <td>0.601457</td>\n",
       "      <td>0.601457</td>\n",
       "      <td>0.998969</td>\n",
       "      <td>0.796887</td>\n",
       "      <td>0.808809</td>\n",
       "      <td>0.780985</td>\n",
       "      <td>1.256969e-04</td>\n",
       "      <td>...</td>\n",
       "      <td>0.009219</td>\n",
       "      <td>0.622879</td>\n",
       "      <td>0.601453</td>\n",
       "      <td>0.827890</td>\n",
       "      <td>0.290202</td>\n",
       "      <td>0.026601</td>\n",
       "      <td>0.564050</td>\n",
       "      <td>1</td>\n",
       "      <td>0.016469</td>\n",
       "      <td>True</td>\n",
       "    </tr>\n",
       "    <tr>\n",
       "      <th>1</th>\n",
       "      <td>0.464291</td>\n",
       "      <td>0.538214</td>\n",
       "      <td>0.516730</td>\n",
       "      <td>0.610235</td>\n",
       "      <td>0.610235</td>\n",
       "      <td>0.998946</td>\n",
       "      <td>0.797380</td>\n",
       "      <td>0.809301</td>\n",
       "      <td>0.781506</td>\n",
       "      <td>2.897851e-04</td>\n",
       "      <td>...</td>\n",
       "      <td>0.008323</td>\n",
       "      <td>0.623652</td>\n",
       "      <td>0.610237</td>\n",
       "      <td>0.839969</td>\n",
       "      <td>0.283846</td>\n",
       "      <td>0.264577</td>\n",
       "      <td>0.570175</td>\n",
       "      <td>1</td>\n",
       "      <td>0.020794</td>\n",
       "      <td>True</td>\n",
       "    </tr>\n",
       "    <tr>\n",
       "      <th>2</th>\n",
       "      <td>0.426071</td>\n",
       "      <td>0.499019</td>\n",
       "      <td>0.472295</td>\n",
       "      <td>0.601450</td>\n",
       "      <td>0.601364</td>\n",
       "      <td>0.998857</td>\n",
       "      <td>0.796403</td>\n",
       "      <td>0.808388</td>\n",
       "      <td>0.780284</td>\n",
       "      <td>2.361297e-04</td>\n",
       "      <td>...</td>\n",
       "      <td>0.040003</td>\n",
       "      <td>0.623841</td>\n",
       "      <td>0.601449</td>\n",
       "      <td>0.836774</td>\n",
       "      <td>0.290189</td>\n",
       "      <td>0.026555</td>\n",
       "      <td>0.563706</td>\n",
       "      <td>1</td>\n",
       "      <td>0.016474</td>\n",
       "      <td>True</td>\n",
       "    </tr>\n",
       "    <tr>\n",
       "      <th>3</th>\n",
       "      <td>0.399844</td>\n",
       "      <td>0.451265</td>\n",
       "      <td>0.457733</td>\n",
       "      <td>0.583541</td>\n",
       "      <td>0.583541</td>\n",
       "      <td>0.998700</td>\n",
       "      <td>0.796967</td>\n",
       "      <td>0.808966</td>\n",
       "      <td>0.781241</td>\n",
       "      <td>1.078888e-04</td>\n",
       "      <td>...</td>\n",
       "      <td>0.003252</td>\n",
       "      <td>0.622929</td>\n",
       "      <td>0.583538</td>\n",
       "      <td>0.834697</td>\n",
       "      <td>0.281721</td>\n",
       "      <td>0.026697</td>\n",
       "      <td>0.564663</td>\n",
       "      <td>1</td>\n",
       "      <td>0.023982</td>\n",
       "      <td>True</td>\n",
       "    </tr>\n",
       "    <tr>\n",
       "      <th>4</th>\n",
       "      <td>0.465022</td>\n",
       "      <td>0.538432</td>\n",
       "      <td>0.522298</td>\n",
       "      <td>0.598783</td>\n",
       "      <td>0.598783</td>\n",
       "      <td>0.998973</td>\n",
       "      <td>0.797366</td>\n",
       "      <td>0.809304</td>\n",
       "      <td>0.781550</td>\n",
       "      <td>7.890000e+09</td>\n",
       "      <td>...</td>\n",
       "      <td>0.003878</td>\n",
       "      <td>0.623521</td>\n",
       "      <td>0.598782</td>\n",
       "      <td>0.839973</td>\n",
       "      <td>0.278514</td>\n",
       "      <td>0.024752</td>\n",
       "      <td>0.575617</td>\n",
       "      <td>1</td>\n",
       "      <td>0.035490</td>\n",
       "      <td>True</td>\n",
       "    </tr>\n",
       "  </tbody>\n",
       "</table>\n",
       "<p>5 rows × 77 columns</p>\n",
       "</div>"
      ],
      "text/plain": [
       "   ROA(C) before interest and depreciation before interest  \\\n",
       "0                                           0.370594         \n",
       "1                                           0.464291         \n",
       "2                                           0.426071         \n",
       "3                                           0.399844         \n",
       "4                                           0.465022         \n",
       "\n",
       "   ROA(A) before interest and % after tax  \\\n",
       "0                                0.424389   \n",
       "1                                0.538214   \n",
       "2                                0.499019   \n",
       "3                                0.451265   \n",
       "4                                0.538432   \n",
       "\n",
       "   ROA(B) before interest and depreciation after tax  Operating Gross Margin  \\\n",
       "0                                           0.405750                0.601457   \n",
       "1                                           0.516730                0.610235   \n",
       "2                                           0.472295                0.601450   \n",
       "3                                           0.457733                0.583541   \n",
       "4                                           0.522298                0.598783   \n",
       "\n",
       "   Realized Sales Gross Margin  Operating Profit Rate  \\\n",
       "0                     0.601457               0.998969   \n",
       "1                     0.610235               0.998946   \n",
       "2                     0.601364               0.998857   \n",
       "3                     0.583541               0.998700   \n",
       "4                     0.598783               0.998973   \n",
       "\n",
       "   Pre-tax net Interest Rate  After-tax net Interest Rate  \\\n",
       "0                   0.796887                     0.808809   \n",
       "1                   0.797380                     0.809301   \n",
       "2                   0.796403                     0.808388   \n",
       "3                   0.796967                     0.808966   \n",
       "4                   0.797366                     0.809304   \n",
       "\n",
       "   Continuous interest rate (after tax)  Operating Expense Rate  ...  \\\n",
       "0                              0.780985            1.256969e-04  ...   \n",
       "1                              0.781506            2.897851e-04  ...   \n",
       "2                              0.780284            2.361297e-04  ...   \n",
       "3                              0.781241            1.078888e-04  ...   \n",
       "4                              0.781550            7.890000e+09  ...   \n",
       "\n",
       "   Total assets to GNP price  No-credit Interval  Gross Profit to Sales  \\\n",
       "0                   0.009219            0.622879               0.601453   \n",
       "1                   0.008323            0.623652               0.610237   \n",
       "2                   0.040003            0.623841               0.601449   \n",
       "3                   0.003252            0.622929               0.583538   \n",
       "4                   0.003878            0.623521               0.598782   \n",
       "\n",
       "   Net Income to Stockholder's Equity  Liability to Equity  \\\n",
       "0                            0.827890             0.290202   \n",
       "1                            0.839969             0.283846   \n",
       "2                            0.836774             0.290189   \n",
       "3                            0.834697             0.281721   \n",
       "4                            0.839973             0.278514   \n",
       "\n",
       "   Degree of Financial Leverage (DFL)  \\\n",
       "0                            0.026601   \n",
       "1                            0.264577   \n",
       "2                            0.026555   \n",
       "3                            0.026697   \n",
       "4                            0.024752   \n",
       "\n",
       "   Interest Coverage Ratio (Interest expense to EBIT)  Net Income Flag  \\\n",
       "0                                           0.564050                 1   \n",
       "1                                           0.570175                 1   \n",
       "2                                           0.563706                 1   \n",
       "3                                           0.564663                 1   \n",
       "4                                           0.575617                 1   \n",
       "\n",
       "   Equity to Liability  bankrupt  \n",
       "0             0.016469      True  \n",
       "1             0.020794      True  \n",
       "2             0.016474      True  \n",
       "3             0.023982      True  \n",
       "4             0.035490      True  \n",
       "\n",
       "[5 rows x 77 columns]"
      ]
     },
     "execution_count": 5,
     "metadata": {},
     "output_type": "execute_result"
    }
   ],
   "source": [
    "df = wrangle(r\"C:\\Users\\Gbest\\Desktop\\my_wqu_project\\polish_bankruptcy_data\\taiwon_bankruptcy_data.json\")\n",
    "print(df.info())\n",
    "df.head()"
   ]
  },
  {
   "cell_type": "markdown",
   "id": "e0b16676",
   "metadata": {},
   "source": [
    "### Exploratory Data Analysis(EDA)."
   ]
  },
  {
   "cell_type": "markdown",
   "id": "d118439b",
   "metadata": {},
   "source": [
    " Create a bar chart of the value counts for the \"bankrupt\" column. calculate the relative frequencies of the classes, not the raw count, so be sure to set the normalize argument to True."
   ]
  },
  {
   "cell_type": "code",
   "execution_count": 7,
   "id": "4ff02787",
   "metadata": {
    "scrolled": false
   },
   "outputs": [
    {
     "data": {
      "image/png": "[encoded data removed]",
      "text/plain": [
       "<Figure size 640x480 with 1 Axes>"
      ]
     },
     "metadata": {},
     "output_type": "display_data"
    }
   ],
   "source": [
    "df[\"bankrupt\"].value_counts(normalize=True).plot(kind=\"bar\");"
   ]
  },
  {
   "cell_type": "markdown",
   "id": "f96c6736",
   "metadata": {},
   "source": [
    "That's good news for Poland's economy! Since it looks like most of the companies in our dataset are doing all right for themselves, let's drill down a little farther. However, it also shows us that we have an imbalanced dataset, where our majority class is far bigger than our minority class.\n",
    "\n",
    " It might be useful to understand where the values for one of these features cluster, so let's make a boxplot to see how the values are distributed\n",
    "\n",
    "Use seaborn to create a boxplot that shows the distributions of the \"feat_27\" column for both groups in the \"bankrupt\" column. Remember to label your axes."
   ]
  },
  {
   "cell_type": "code",
   "execution_count": 10,
   "id": "499ecd05",
   "metadata": {},
   "outputs": [
    {
     "data": {
      "image/png": "[encoded data removed]",
      "text/plain": [
       "<Figure size 640x480 with 1 Axes>"
      ]
     },
     "metadata": {},
     "output_type": "display_data"
    }
   ],
   "source": [
    "sns.boxplot(x=\"bankrupt\", y=\"Net Value Growth Rate\", data=df)\n",
    "plt.xlabel(\"Bankrupt\")\n",
    "plt.ylabel(\"Net Value Growth Rate\")\n",
    "plt.title(\"Distribution\");"
   ]
  },
  {
   "cell_type": "code",
   "execution_count": 102,
   "id": "5412f948",
   "metadata": {},
   "outputs": [
    {
     "data": {
      "text/plain": [
       "count            6,819\n",
       "mean         1,566,212\n",
       "std        114,159,390\n",
       "min                  0\n",
       "25%                  0\n",
       "50%                  0\n",
       "75%                  0\n",
       "max      9,330,000,000\n",
       "Name: Net Value Growth Rate, dtype: object"
      ]
     },
     "execution_count": 102,
     "metadata": {},
     "output_type": "execute_result"
    }
   ],
   "source": [
    "df[\"Net Value Growth Rate\"].describe().apply(\"{0:,.0f}\".format)"
   ]
  },
  {
   "cell_type": "markdown",
   "id": "8917ab67",
   "metadata": {},
   "source": [
    "Create a histogram of \"feat_27\". Make sure to label x-axis \"POA / financial expenses\", the y-axis \"Count\", and use the title \"Distribution of Profit/Expenses Ratio\"."
   ]
  },
  {
   "cell_type": "code",
   "execution_count": 100,
   "id": "4325c263",
   "metadata": {
    "scrolled": true
   },
   "outputs": [
    {
     "data": {
      "text/plain": [
       "<Axes: >"
      ]
     },
     "execution_count": 100,
     "metadata": {},
     "output_type": "execute_result"
    },
    {
     "data": {
      "image/png": "[encoded data removed]",
      "text/plain": [
       "<Figure size 640x480 with 1 Axes>"
      ]
     },
     "metadata": {},
     "output_type": "display_data"
    }
   ],
   "source": [
    "df[\"Net Value Growth Rate\"].hist()"
   ]
  },
  {
   "cell_type": "markdown",
   "id": "a8a5a3bd",
   "metadata": {},
   "source": [
    "Aha! We saw it in the numbers and now we see it in the histogram. The data is very skewed. So, in order to create a helpful boxplot, we need to trim the data."
   ]
  },
  {
   "cell_type": "markdown",
   "id": "74f6ec19",
   "metadata": {},
   "source": [
    "Recreate the boxplot that you made above, this time only using the values for that fall between the 0.1 and 0.9 quantiles for the column"
   ]
  },
  {
   "cell_type": "code",
   "execution_count": 13,
   "id": "ae3639de",
   "metadata": {
    "scrolled": true
   },
   "outputs": [
    {
     "data": {
      "image/png": "[encoded data removed]",
      "text/plain": [
       "<Figure size 640x480 with 1 Axes>"
      ]
     },
     "metadata": {},
     "output_type": "display_data"
    }
   ],
   "source": [
    "low, high = df[\"Net Value Growth Rate\"].quantile([0.1, 0.9])\n",
    "mask = df[\"Net Value Growth Rate\"].between(low, high)\n",
    "sns.boxplot(x=\"bankrupt\", y=\"Net Value Growth Rate\", data=df[mask]);"
   ]
  },
  {
   "cell_type": "markdown",
   "id": "4dcd60eb",
   "metadata": {},
   "source": [
    "### Split\n",
    "\n",
    "\n",
    "So let's start building that model. If you need a refresher on how and why we split data in these situations, take a look back at the Time Series module.\n",
    "\n",
    "Creating feature matrix X and target vector y. The target is \"bankrupt\"."
   ]
  },
  {
   "cell_type": "code",
   "execution_count": 14,
   "id": "1020ed19",
   "metadata": {},
   "outputs": [],
   "source": [
    "target = \"bankrupt\"\n",
    "\n",
    "y = df[target]\n",
    "X = df.drop(columns=[target])"
   ]
  },
  {
   "cell_type": "markdown",
   "id": "c7b3c78c",
   "metadata": {},
   "source": [
    "Dividing the data (X and y) into training and test sets using a randomized train-test split. validation set should be 20% of your total data. And don't forget to set a random_state for reproducibility."
   ]
  },
  {
   "cell_type": "code",
   "execution_count": 16,
   "id": "bdac2453",
   "metadata": {},
   "outputs": [
    {
     "name": "stdout",
     "output_type": "stream",
     "text": [
      "(5455, 76)\n",
      "(5455,)\n",
      "(1364, 76)\n",
      "(1364,)\n"
     ]
    }
   ],
   "source": [
    "X_train, X_test, y_train, y_test = train_test_split(\n",
    "    X, y, test_size=0.2, random_state=40\n",
    ")\n",
    "print(X_train.shape)\n",
    "print(y_train.shape)\n",
    "print(X_test.shape)\n",
    "print(y_test.shape)"
   ]
  },
  {
   "cell_type": "markdown",
   "id": "691d4231",
   "metadata": {},
   "source": [
    "### Resample\n",
    "\n",
    "Now that i split the data into training and test sets, i can address the class imbalance we saw during our EDA. One strategy is to resample the training data. There are many ways to do this, so let's start with under-sampling."
   ]
  },
  {
   "cell_type": "code",
   "execution_count": 17,
   "id": "5a051e81",
   "metadata": {},
   "outputs": [
    {
     "name": "stdout",
     "output_type": "stream",
     "text": [
      "(342, 76)\n"
     ]
    },
    {
     "data": {
      "text/html": [
       "<div>\n",
       "<style scoped>\n",
       "    .dataframe tbody tr th:only-of-type {\n",
       "        vertical-align: middle;\n",
       "    }\n",
       "\n",
       "    .dataframe tbody tr th {\n",
       "        vertical-align: top;\n",
       "    }\n",
       "\n",
       "    .dataframe thead th {\n",
       "        text-align: right;\n",
       "    }\n",
       "</style>\n",
       "<table border=\"1\" class=\"dataframe\">\n",
       "  <thead>\n",
       "    <tr style=\"text-align: right;\">\n",
       "      <th></th>\n",
       "      <th>ROA(C) before interest and depreciation before interest</th>\n",
       "      <th>ROA(A) before interest and % after tax</th>\n",
       "      <th>ROA(B) before interest and depreciation after tax</th>\n",
       "      <th>Operating Gross Margin</th>\n",
       "      <th>Realized Sales Gross Margin</th>\n",
       "      <th>Operating Profit Rate</th>\n",
       "      <th>Pre-tax net Interest Rate</th>\n",
       "      <th>After-tax net Interest Rate</th>\n",
       "      <th>Continuous interest rate (after tax)</th>\n",
       "      <th>Operating Expense Rate</th>\n",
       "      <th>...</th>\n",
       "      <th>Net Income to Total Assets</th>\n",
       "      <th>Total assets to GNP price</th>\n",
       "      <th>No-credit Interval</th>\n",
       "      <th>Gross Profit to Sales</th>\n",
       "      <th>Net Income to Stockholder's Equity</th>\n",
       "      <th>Liability to Equity</th>\n",
       "      <th>Degree of Financial Leverage (DFL)</th>\n",
       "      <th>Interest Coverage Ratio (Interest expense to EBIT)</th>\n",
       "      <th>Net Income Flag</th>\n",
       "      <th>Equity to Liability</th>\n",
       "    </tr>\n",
       "  </thead>\n",
       "  <tbody>\n",
       "    <tr>\n",
       "      <th>0</th>\n",
       "      <td>0.564374</td>\n",
       "      <td>0.624455</td>\n",
       "      <td>0.613577</td>\n",
       "      <td>0.600455</td>\n",
       "      <td>0.600427</td>\n",
       "      <td>0.999016</td>\n",
       "      <td>0.797468</td>\n",
       "      <td>0.809379</td>\n",
       "      <td>0.781642</td>\n",
       "      <td>6.260000e+09</td>\n",
       "      <td>...</td>\n",
       "      <td>0.845388</td>\n",
       "      <td>0.006112</td>\n",
       "      <td>0.623812</td>\n",
       "      <td>0.600457</td>\n",
       "      <td>0.844677</td>\n",
       "      <td>0.281581</td>\n",
       "      <td>0.026838</td>\n",
       "      <td>0.565372</td>\n",
       "      <td>1</td>\n",
       "      <td>0.024261</td>\n",
       "    </tr>\n",
       "    <tr>\n",
       "      <th>1</th>\n",
       "      <td>0.462000</td>\n",
       "      <td>0.519679</td>\n",
       "      <td>0.512929</td>\n",
       "      <td>0.598985</td>\n",
       "      <td>0.598985</td>\n",
       "      <td>0.998926</td>\n",
       "      <td>0.797332</td>\n",
       "      <td>0.809270</td>\n",
       "      <td>0.781525</td>\n",
       "      <td>1.296285e-04</td>\n",
       "      <td>...</td>\n",
       "      <td>0.787594</td>\n",
       "      <td>0.000622</td>\n",
       "      <td>0.623548</td>\n",
       "      <td>0.598986</td>\n",
       "      <td>0.839160</td>\n",
       "      <td>0.283248</td>\n",
       "      <td>0.026512</td>\n",
       "      <td>0.563347</td>\n",
       "      <td>1</td>\n",
       "      <td>0.021531</td>\n",
       "    </tr>\n",
       "    <tr>\n",
       "      <th>2</th>\n",
       "      <td>0.435724</td>\n",
       "      <td>0.465547</td>\n",
       "      <td>0.474811</td>\n",
       "      <td>0.594387</td>\n",
       "      <td>0.594402</td>\n",
       "      <td>0.998768</td>\n",
       "      <td>0.796973</td>\n",
       "      <td>0.808873</td>\n",
       "      <td>0.781250</td>\n",
       "      <td>2.140432e-04</td>\n",
       "      <td>...</td>\n",
       "      <td>0.752306</td>\n",
       "      <td>0.001315</td>\n",
       "      <td>0.624097</td>\n",
       "      <td>0.594386</td>\n",
       "      <td>0.836252</td>\n",
       "      <td>0.280576</td>\n",
       "      <td>0.026690</td>\n",
       "      <td>0.564622</td>\n",
       "      <td>1</td>\n",
       "      <td>0.026653</td>\n",
       "    </tr>\n",
       "    <tr>\n",
       "      <th>3</th>\n",
       "      <td>0.573636</td>\n",
       "      <td>0.630397</td>\n",
       "      <td>0.616093</td>\n",
       "      <td>0.623467</td>\n",
       "      <td>0.623265</td>\n",
       "      <td>0.999255</td>\n",
       "      <td>0.797745</td>\n",
       "      <td>0.809591</td>\n",
       "      <td>0.781868</td>\n",
       "      <td>1.898751e-04</td>\n",
       "      <td>...</td>\n",
       "      <td>0.848944</td>\n",
       "      <td>0.001411</td>\n",
       "      <td>0.623961</td>\n",
       "      <td>0.623467</td>\n",
       "      <td>0.843098</td>\n",
       "      <td>0.276382</td>\n",
       "      <td>0.026793</td>\n",
       "      <td>0.565168</td>\n",
       "      <td>1</td>\n",
       "      <td>0.067161</td>\n",
       "    </tr>\n",
       "    <tr>\n",
       "      <th>4</th>\n",
       "      <td>0.494857</td>\n",
       "      <td>0.556640</td>\n",
       "      <td>0.549815</td>\n",
       "      <td>0.623942</td>\n",
       "      <td>0.623813</td>\n",
       "      <td>0.999025</td>\n",
       "      <td>0.797460</td>\n",
       "      <td>0.809380</td>\n",
       "      <td>0.781645</td>\n",
       "      <td>4.283176e-04</td>\n",
       "      <td>...</td>\n",
       "      <td>0.810739</td>\n",
       "      <td>0.000834</td>\n",
       "      <td>0.623821</td>\n",
       "      <td>0.623941</td>\n",
       "      <td>0.840922</td>\n",
       "      <td>0.276660</td>\n",
       "      <td>0.026794</td>\n",
       "      <td>0.565173</td>\n",
       "      <td>1</td>\n",
       "      <td>0.059145</td>\n",
       "    </tr>\n",
       "  </tbody>\n",
       "</table>\n",
       "<p>5 rows × 76 columns</p>\n",
       "</div>"
      ],
      "text/plain": [
       "   ROA(C) before interest and depreciation before interest  \\\n",
       "0                                           0.564374         \n",
       "1                                           0.462000         \n",
       "2                                           0.435724         \n",
       "3                                           0.573636         \n",
       "4                                           0.494857         \n",
       "\n",
       "   ROA(A) before interest and % after tax  \\\n",
       "0                                0.624455   \n",
       "1                                0.519679   \n",
       "2                                0.465547   \n",
       "3                                0.630397   \n",
       "4                                0.556640   \n",
       "\n",
       "   ROA(B) before interest and depreciation after tax  Operating Gross Margin  \\\n",
       "0                                           0.613577                0.600455   \n",
       "1                                           0.512929                0.598985   \n",
       "2                                           0.474811                0.594387   \n",
       "3                                           0.616093                0.623467   \n",
       "4                                           0.549815                0.623942   \n",
       "\n",
       "   Realized Sales Gross Margin  Operating Profit Rate  \\\n",
       "0                     0.600427               0.999016   \n",
       "1                     0.598985               0.998926   \n",
       "2                     0.594402               0.998768   \n",
       "3                     0.623265               0.999255   \n",
       "4                     0.623813               0.999025   \n",
       "\n",
       "   Pre-tax net Interest Rate  After-tax net Interest Rate  \\\n",
       "0                   0.797468                     0.809379   \n",
       "1                   0.797332                     0.809270   \n",
       "2                   0.796973                     0.808873   \n",
       "3                   0.797745                     0.809591   \n",
       "4                   0.797460                     0.809380   \n",
       "\n",
       "   Continuous interest rate (after tax)  Operating Expense Rate  ...  \\\n",
       "0                              0.781642            6.260000e+09  ...   \n",
       "1                              0.781525            1.296285e-04  ...   \n",
       "2                              0.781250            2.140432e-04  ...   \n",
       "3                              0.781868            1.898751e-04  ...   \n",
       "4                              0.781645            4.283176e-04  ...   \n",
       "\n",
       "   Net Income to Total Assets  Total assets to GNP price  No-credit Interval  \\\n",
       "0                    0.845388                   0.006112            0.623812   \n",
       "1                    0.787594                   0.000622            0.623548   \n",
       "2                    0.752306                   0.001315            0.624097   \n",
       "3                    0.848944                   0.001411            0.623961   \n",
       "4                    0.810739                   0.000834            0.623821   \n",
       "\n",
       "   Gross Profit to Sales  Net Income to Stockholder's Equity  \\\n",
       "0               0.600457                            0.844677   \n",
       "1               0.598986                            0.839160   \n",
       "2               0.594386                            0.836252   \n",
       "3               0.623467                            0.843098   \n",
       "4               0.623941                            0.840922   \n",
       "\n",
       "   Liability to Equity  Degree of Financial Leverage (DFL)  \\\n",
       "0             0.281581                            0.026838   \n",
       "1             0.283248                            0.026512   \n",
       "2             0.280576                            0.026690   \n",
       "3             0.276382                            0.026793   \n",
       "4             0.276660                            0.026794   \n",
       "\n",
       "   Interest Coverage Ratio (Interest expense to EBIT)  Net Income Flag  \\\n",
       "0                                           0.565372                 1   \n",
       "1                                           0.563347                 1   \n",
       "2                                           0.564622                 1   \n",
       "3                                           0.565168                 1   \n",
       "4                                           0.565173                 1   \n",
       "\n",
       "   Equity to Liability  \n",
       "0             0.024261  \n",
       "1             0.021531  \n",
       "2             0.026653  \n",
       "3             0.067161  \n",
       "4             0.059145  \n",
       "\n",
       "[5 rows x 76 columns]"
      ]
     },
     "execution_count": 17,
     "metadata": {},
     "output_type": "execute_result"
    }
   ],
   "source": [
    "under_sampler = RandomUnderSampler(random_state=40)\n",
    "X_train_under, y_train_under = under_sampler.fit_resample(X_train, y_train)\n",
    "\n",
    "print(X_train_under.shape)\n",
    "X_train_under.head()"
   ]
  },
  {
   "cell_type": "code",
   "execution_count": 18,
   "id": "c0c99519",
   "metadata": {},
   "outputs": [
    {
     "data": {
      "text/plain": [
       "bankrupt\n",
       "False    0.5\n",
       "True     0.5\n",
       "Name: proportion, dtype: float64"
      ]
     },
     "execution_count": 18,
     "metadata": {},
     "output_type": "execute_result"
    }
   ],
   "source": [
    "y_train_under.value_counts(normalize=True)"
   ]
  },
  {
   "cell_type": "markdown",
   "id": "e017dcd1",
   "metadata": {},
   "source": [
    "Create a new feature matrix X_train_over and target vector y_train_over by performing random over-sampling on the training data."
   ]
  },
  {
   "cell_type": "code",
   "execution_count": 19,
   "id": "83ec008d",
   "metadata": {},
   "outputs": [
    {
     "name": "stdout",
     "output_type": "stream",
     "text": [
      "(10568, 76)\n"
     ]
    },
    {
     "data": {
      "text/html": [
       "<div>\n",
       "<style scoped>\n",
       "    .dataframe tbody tr th:only-of-type {\n",
       "        vertical-align: middle;\n",
       "    }\n",
       "\n",
       "    .dataframe tbody tr th {\n",
       "        vertical-align: top;\n",
       "    }\n",
       "\n",
       "    .dataframe thead th {\n",
       "        text-align: right;\n",
       "    }\n",
       "</style>\n",
       "<table border=\"1\" class=\"dataframe\">\n",
       "  <thead>\n",
       "    <tr style=\"text-align: right;\">\n",
       "      <th></th>\n",
       "      <th>ROA(C) before interest and depreciation before interest</th>\n",
       "      <th>ROA(A) before interest and % after tax</th>\n",
       "      <th>ROA(B) before interest and depreciation after tax</th>\n",
       "      <th>Operating Gross Margin</th>\n",
       "      <th>Realized Sales Gross Margin</th>\n",
       "      <th>Operating Profit Rate</th>\n",
       "      <th>Pre-tax net Interest Rate</th>\n",
       "      <th>After-tax net Interest Rate</th>\n",
       "      <th>Continuous interest rate (after tax)</th>\n",
       "      <th>Operating Expense Rate</th>\n",
       "      <th>...</th>\n",
       "      <th>Net Income to Total Assets</th>\n",
       "      <th>Total assets to GNP price</th>\n",
       "      <th>No-credit Interval</th>\n",
       "      <th>Gross Profit to Sales</th>\n",
       "      <th>Net Income to Stockholder's Equity</th>\n",
       "      <th>Liability to Equity</th>\n",
       "      <th>Degree of Financial Leverage (DFL)</th>\n",
       "      <th>Interest Coverage Ratio (Interest expense to EBIT)</th>\n",
       "      <th>Net Income Flag</th>\n",
       "      <th>Equity to Liability</th>\n",
       "    </tr>\n",
       "  </thead>\n",
       "  <tbody>\n",
       "    <tr>\n",
       "      <th>0</th>\n",
       "      <td>0.458685</td>\n",
       "      <td>0.454154</td>\n",
       "      <td>0.508432</td>\n",
       "      <td>0.576111</td>\n",
       "      <td>0.576111</td>\n",
       "      <td>0.998487</td>\n",
       "      <td>0.796446</td>\n",
       "      <td>0.808405</td>\n",
       "      <td>0.780658</td>\n",
       "      <td>2.015544e-04</td>\n",
       "      <td>...</td>\n",
       "      <td>0.744635</td>\n",
       "      <td>0.003754</td>\n",
       "      <td>0.623349</td>\n",
       "      <td>0.576107</td>\n",
       "      <td>0.835667</td>\n",
       "      <td>0.280350</td>\n",
       "      <td>0.026620</td>\n",
       "      <td>0.564182</td>\n",
       "      <td>1</td>\n",
       "      <td>0.027308</td>\n",
       "    </tr>\n",
       "    <tr>\n",
       "      <th>1</th>\n",
       "      <td>0.460830</td>\n",
       "      <td>0.511121</td>\n",
       "      <td>0.512875</td>\n",
       "      <td>0.613824</td>\n",
       "      <td>0.613846</td>\n",
       "      <td>0.999073</td>\n",
       "      <td>0.797296</td>\n",
       "      <td>0.809228</td>\n",
       "      <td>0.781469</td>\n",
       "      <td>2.204032e-04</td>\n",
       "      <td>...</td>\n",
       "      <td>0.779891</td>\n",
       "      <td>0.003578</td>\n",
       "      <td>0.623892</td>\n",
       "      <td>0.613825</td>\n",
       "      <td>0.838791</td>\n",
       "      <td>0.279278</td>\n",
       "      <td>0.026504</td>\n",
       "      <td>0.563281</td>\n",
       "      <td>1</td>\n",
       "      <td>0.031291</td>\n",
       "    </tr>\n",
       "    <tr>\n",
       "      <th>2</th>\n",
       "      <td>0.534052</td>\n",
       "      <td>0.582316</td>\n",
       "      <td>0.579046</td>\n",
       "      <td>0.604715</td>\n",
       "      <td>0.604715</td>\n",
       "      <td>0.999086</td>\n",
       "      <td>0.797629</td>\n",
       "      <td>0.809488</td>\n",
       "      <td>0.781761</td>\n",
       "      <td>6.060000e+09</td>\n",
       "      <td>...</td>\n",
       "      <td>0.824112</td>\n",
       "      <td>0.002887</td>\n",
       "      <td>0.622335</td>\n",
       "      <td>0.604710</td>\n",
       "      <td>0.842178</td>\n",
       "      <td>0.279005</td>\n",
       "      <td>0.026815</td>\n",
       "      <td>0.565268</td>\n",
       "      <td>1</td>\n",
       "      <td>0.032620</td>\n",
       "    </tr>\n",
       "    <tr>\n",
       "      <th>3</th>\n",
       "      <td>0.435187</td>\n",
       "      <td>0.503598</td>\n",
       "      <td>0.502543</td>\n",
       "      <td>0.614869</td>\n",
       "      <td>0.615150</td>\n",
       "      <td>0.998929</td>\n",
       "      <td>0.797187</td>\n",
       "      <td>0.809198</td>\n",
       "      <td>0.781445</td>\n",
       "      <td>3.859946e-04</td>\n",
       "      <td>...</td>\n",
       "      <td>0.778489</td>\n",
       "      <td>0.000431</td>\n",
       "      <td>0.623888</td>\n",
       "      <td>0.614866</td>\n",
       "      <td>0.838912</td>\n",
       "      <td>0.277383</td>\n",
       "      <td>0.026787</td>\n",
       "      <td>0.565138</td>\n",
       "      <td>1</td>\n",
       "      <td>0.046061</td>\n",
       "    </tr>\n",
       "    <tr>\n",
       "      <th>4</th>\n",
       "      <td>0.521279</td>\n",
       "      <td>0.611971</td>\n",
       "      <td>0.575245</td>\n",
       "      <td>0.661994</td>\n",
       "      <td>0.661994</td>\n",
       "      <td>0.999586</td>\n",
       "      <td>0.798297</td>\n",
       "      <td>0.810146</td>\n",
       "      <td>0.782231</td>\n",
       "      <td>4.800071e-04</td>\n",
       "      <td>...</td>\n",
       "      <td>0.830972</td>\n",
       "      <td>0.005061</td>\n",
       "      <td>0.625087</td>\n",
       "      <td>0.661992</td>\n",
       "      <td>0.843016</td>\n",
       "      <td>0.280308</td>\n",
       "      <td>0.026856</td>\n",
       "      <td>0.565449</td>\n",
       "      <td>1</td>\n",
       "      <td>0.027435</td>\n",
       "    </tr>\n",
       "  </tbody>\n",
       "</table>\n",
       "<p>5 rows × 76 columns</p>\n",
       "</div>"
      ],
      "text/plain": [
       "   ROA(C) before interest and depreciation before interest  \\\n",
       "0                                           0.458685         \n",
       "1                                           0.460830         \n",
       "2                                           0.534052         \n",
       "3                                           0.435187         \n",
       "4                                           0.521279         \n",
       "\n",
       "   ROA(A) before interest and % after tax  \\\n",
       "0                                0.454154   \n",
       "1                                0.511121   \n",
       "2                                0.582316   \n",
       "3                                0.503598   \n",
       "4                                0.611971   \n",
       "\n",
       "   ROA(B) before interest and depreciation after tax  Operating Gross Margin  \\\n",
       "0                                           0.508432                0.576111   \n",
       "1                                           0.512875                0.613824   \n",
       "2                                           0.579046                0.604715   \n",
       "3                                           0.502543                0.614869   \n",
       "4                                           0.575245                0.661994   \n",
       "\n",
       "   Realized Sales Gross Margin  Operating Profit Rate  \\\n",
       "0                     0.576111               0.998487   \n",
       "1                     0.613846               0.999073   \n",
       "2                     0.604715               0.999086   \n",
       "3                     0.615150               0.998929   \n",
       "4                     0.661994               0.999586   \n",
       "\n",
       "   Pre-tax net Interest Rate  After-tax net Interest Rate  \\\n",
       "0                   0.796446                     0.808405   \n",
       "1                   0.797296                     0.809228   \n",
       "2                   0.797629                     0.809488   \n",
       "3                   0.797187                     0.809198   \n",
       "4                   0.798297                     0.810146   \n",
       "\n",
       "   Continuous interest rate (after tax)  Operating Expense Rate  ...  \\\n",
       "0                              0.780658            2.015544e-04  ...   \n",
       "1                              0.781469            2.204032e-04  ...   \n",
       "2                              0.781761            6.060000e+09  ...   \n",
       "3                              0.781445            3.859946e-04  ...   \n",
       "4                              0.782231            4.800071e-04  ...   \n",
       "\n",
       "   Net Income to Total Assets  Total assets to GNP price  No-credit Interval  \\\n",
       "0                    0.744635                   0.003754            0.623349   \n",
       "1                    0.779891                   0.003578            0.623892   \n",
       "2                    0.824112                   0.002887            0.622335   \n",
       "3                    0.778489                   0.000431            0.623888   \n",
       "4                    0.830972                   0.005061            0.625087   \n",
       "\n",
       "   Gross Profit to Sales  Net Income to Stockholder's Equity  \\\n",
       "0               0.576107                            0.835667   \n",
       "1               0.613825                            0.838791   \n",
       "2               0.604710                            0.842178   \n",
       "3               0.614866                            0.838912   \n",
       "4               0.661992                            0.843016   \n",
       "\n",
       "   Liability to Equity  Degree of Financial Leverage (DFL)  \\\n",
       "0             0.280350                            0.026620   \n",
       "1             0.279278                            0.026504   \n",
       "2             0.279005                            0.026815   \n",
       "3             0.277383                            0.026787   \n",
       "4             0.280308                            0.026856   \n",
       "\n",
       "   Interest Coverage Ratio (Interest expense to EBIT)  Net Income Flag  \\\n",
       "0                                           0.564182                 1   \n",
       "1                                           0.563281                 1   \n",
       "2                                           0.565268                 1   \n",
       "3                                           0.565138                 1   \n",
       "4                                           0.565449                 1   \n",
       "\n",
       "   Equity to Liability  \n",
       "0             0.027308  \n",
       "1             0.031291  \n",
       "2             0.032620  \n",
       "3             0.046061  \n",
       "4             0.027435  \n",
       "\n",
       "[5 rows x 76 columns]"
      ]
     },
     "execution_count": 19,
     "metadata": {},
     "output_type": "execute_result"
    }
   ],
   "source": [
    "over_sampler = RandomOverSampler(random_state=40)\n",
    "X_train_over, y_train_over = over_sampler.fit_resample(X_train, y_train)\n",
    "\n",
    "print(X_train_over.shape)\n",
    "X_train_over.head()"
   ]
  },
  {
   "cell_type": "code",
   "execution_count": 20,
   "id": "2d4bc5d6",
   "metadata": {},
   "outputs": [
    {
     "data": {
      "text/plain": [
       "bankrupt\n",
       "False    5284\n",
       "True     5284\n",
       "Name: count, dtype: int64"
      ]
     },
     "execution_count": 20,
     "metadata": {},
     "output_type": "execute_result"
    }
   ],
   "source": [
    "y_train_over.value_counts()"
   ]
  },
  {
   "cell_type": "markdown",
   "id": "de8a342d",
   "metadata": {},
   "source": [
    "### baseline\n",
    "\n",
    "As always, we need to establish the baseline for our model. Since this is a classification problem, we'll use accuracy score."
   ]
  },
  {
   "cell_type": "code",
   "execution_count": 22,
   "id": "65380743",
   "metadata": {},
   "outputs": [
    {
     "name": "stdout",
     "output_type": "stream",
     "text": [
      "MAE accuracy: 0.97\n"
     ]
    }
   ],
   "source": [
    "mae_acc = y_train.value_counts(normalize=True).max()\n",
    "print(\"MAE accuracy:\", round(mae_acc, 2))"
   ]
  },
  {
   "cell_type": "markdown",
   "id": "bcf50a53",
   "metadata": {},
   "source": [
    "Creating three identical models: model_reg, model_under and model_over. All of them should use a SimpleImputer followed by a DecisionTreeClassifier. Train model_reg using the unaltered training data. For model_under, use the undersampled data. For model_over, use the oversampled data."
   ]
  },
  {
   "cell_type": "code",
   "execution_count": 21,
   "id": "1dd6a074",
   "metadata": {},
   "outputs": [],
   "source": [
    "model_reg= make_pipeline(\n",
    "    SimpleImputer(strategy=\"median\"),\n",
    "    DecisionTreeClassifier(random_state=40)\n",
    ").fit(X_train, y_train)\n",
    "\n",
    "model_under= make_pipeline(\n",
    "    SimpleImputer(strategy=\"median\"),\n",
    "    DecisionTreeClassifier(random_state=40)\n",
    ").fit(X_train_under, y_train_under)\n",
    "\n",
    "model_over= make_pipeline(\n",
    "    SimpleImputer(strategy=\"median\"),\n",
    "    DecisionTreeClassifier(random_state=40)\n",
    ").fit(X_train_over, y_train_over)"
   ]
  },
  {
   "cell_type": "markdown",
   "id": "5a30c31d",
   "metadata": {},
   "source": [
    "Calculate training and test accuracy for your three models."
   ]
  },
  {
   "cell_type": "code",
   "execution_count": 23,
   "id": "ac443c1a",
   "metadata": {},
   "outputs": [
    {
     "name": "stdout",
     "output_type": "stream",
     "text": [
      "accuracy train: 1.0\n",
      "accuracy test: 0.9523\n",
      "accuracy train: 0.8203\n",
      "accuracy test: 0.8101\n",
      "accuracy train: 1.0\n",
      "accuracy test: 0.9531\n"
     ]
    }
   ],
   "source": [
    "for m in [model_reg, model_under, model_over]:\n",
    "    acc_train = m.score(X_train, y_train)\n",
    "    acc_test = m.score(X_test, y_test)\n",
    "    \n",
    "    print(\"accuracy train:\", acc_train.round(4))\n",
    "    print(\"accuracy test:\", acc_test.round(4))"
   ]
  },
  {
   "cell_type": "markdown",
   "id": "ec44c2df",
   "metadata": {},
   "source": [
    "As we mentioned earlier, \"good\" accuracy scores don't tell us much about the model's performance when dealing with imbalanced data. So instead of looking at what the model got right or wrong, let's see how its predictions differ for the two classes in the dataset.\n",
    "\n",
    "Plot a confusion matrix that shows how your best model performs on your validation set."
   ]
  },
  {
   "cell_type": "code",
   "execution_count": 24,
   "id": "44e5be7f",
   "metadata": {},
   "outputs": [
    {
     "data": {
      "image/png": "[encoded data removed]",
      "text/plain": [
       "<Figure size 640x480 with 2 Axes>"
      ]
     },
     "metadata": {},
     "output_type": "display_data"
    }
   ],
   "source": [
    "ConfusionMatrixDisplay.from_estimator(model_reg, X_test, y_test);"
   ]
  },
  {
   "cell_type": "code",
   "execution_count": 25,
   "id": "70991043",
   "metadata": {},
   "outputs": [
    {
     "data": {
      "text/plain": [
       "42"
      ]
     },
     "execution_count": 25,
     "metadata": {},
     "output_type": "execute_result"
    }
   ],
   "source": [
    "depth = model_over.named_steps[\"decisiontreeclassifier\"].get_depth()\n",
    "depth"
   ]
  },
  {
   "cell_type": "markdown",
   "id": "bdc8fb27",
   "metadata": {},
   "source": [
    "### Communicate\n",
    "\n",
    "Now that we have a reasonable model, let's graph the importance of each feature.\n",
    "\n",
    "Create a horizontal bar chart with the 15 most important features for model_over. Be sure to label your x-axis \"Gini Importance\""
   ]
  },
  {
   "cell_type": "code",
   "execution_count": 26,
   "id": "6dec2d01",
   "metadata": {},
   "outputs": [],
   "source": [
    "feature = X_train_over.columns\n",
    "importances = model_over.named_steps[\"decisiontreeclassifier\"].feature_importances_"
   ]
  },
  {
   "cell_type": "code",
   "execution_count": 27,
   "id": "5d963dd5",
   "metadata": {},
   "outputs": [],
   "source": [
    "feat_imp = pd.Series(importances, index=feature).sort_values()"
   ]
  },
  {
   "cell_type": "code",
   "execution_count": 28,
   "id": "6fbb2e4e",
   "metadata": {},
   "outputs": [
    {
     "data": {
      "image/png": "[encoded data removed]",
      "text/plain": [
       "<Figure size 640x480 with 1 Axes>"
      ]
     },
     "metadata": {},
     "output_type": "display_data"
    }
   ],
   "source": [
    "feat_imp.tail(20).plot(kind=\"barh\");"
   ]
  },
  {
   "cell_type": "code",
   "execution_count": 149,
   "id": "b69002a5",
   "metadata": {},
   "outputs": [],
   "source": [
    "with open(\"model-5-2.pkl\", \"wb\") as f:\n",
    "    pickle.dump(model_over, f)"
   ]
  },
  {
   "cell_type": "code",
   "execution_count": 150,
   "id": "e90a93f2",
   "metadata": {},
   "outputs": [
    {
     "name": "stdout",
     "output_type": "stream",
     "text": [
      "Pipeline(steps=[('simpleimputer', SimpleImputer(strategy='median')),\n",
      "                ('decisiontreeclassifier',\n",
      "                 DecisionTreeClassifier(random_state=40))])\n"
     ]
    }
   ],
   "source": [
    "with open(\"model-5-2.pkl\", \"rb\")as f:\n",
    "    loaded_model=pickle.load(f)\n",
    "    \n",
    "print(loaded_model)"
   ]
  },
  {
   "cell_type": "code",
   "execution_count": null,
   "id": "76024c7d",
   "metadata": {},
   "outputs": [],
   "source": []
  }
 ],
 "metadata": {
  "kernelspec": {
   "display_name": "Python 3 (ipykernel)",
   "language": "python",
   "name": "python3"
  },
  "language_info": {
   "codemirror_mode": {
    "name": "ipython",
    "version": 3
   },
   "file_extension": ".py",
   "mimetype": "text/x-python",
   "name": "python",
   "nbconvert_exporter": "python",
   "pygments_lexer": "ipython3",
   "version": "3.9.13"
  }
 },
 "nbformat": 4,
 "nbformat_minor": 5
}
