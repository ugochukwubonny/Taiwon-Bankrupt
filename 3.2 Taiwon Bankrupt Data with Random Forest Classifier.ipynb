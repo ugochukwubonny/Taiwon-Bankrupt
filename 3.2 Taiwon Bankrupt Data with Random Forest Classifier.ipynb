{
 "cells": [
  {
   "cell_type": "markdown",
   "id": "354eb1d4",
   "metadata": {},
   "source": [
    "# Ensemble Models: Random Forest with the Taiwon Bankrupt Data.\n",
    "\n",
    "In this project, i am going to expand the decision tree model into an entire forest (an example of something called an ensemble model); learn how to use a grid search to tune hyperparameters; and create a function that loads data and a pre-trained model, and uses that model to generate a Series of predictions."
   ]
  },
  {
   "cell_type": "markdown",
   "id": "1551032f",
   "metadata": {},
   "source": [
    "**Importing Labraries**"
   ]
  },
  {
   "cell_type": "code",
   "execution_count": 1,
   "id": "8722c6b1",
   "metadata": {},
   "outputs": [],
   "source": [
    "import json\n",
    "import pickle\n",
    "import pandas as pd\n",
    "import matplotlib.pyplot as plt\n",
    "\n",
    "from imblearn.over_sampling import RandomOverSampler\n",
    "from sklearn.impute import SimpleImputer\n",
    "from sklearn.model_selection import GridSearchCV, cross_val_score, train_test_split\n",
    "from sklearn.ensemble import RandomForestClassifier\n",
    "from sklearn.pipeline import Pipeline, make_pipeline\n",
    "from sklearn.metrics import ConfusionMatrixDisplay"
   ]
  },
  {
   "cell_type": "markdown",
   "id": "3a58430c",
   "metadata": {},
   "source": [
    "**Creating a Wrangle Function**"
   ]
  },
  {
   "cell_type": "code",
   "execution_count": 2,
   "id": "735ffe1e",
   "metadata": {},
   "outputs": [],
   "source": [
    "def wrangle(file_path):\n",
    "    df = pd.read_json(file_path)\n",
    "    \n",
    "    df [\"bankrupt\"] = df[\"Bankrupt?\"]>0\n",
    "    \n",
    "    df.drop(columns=[\"Bankrupt?\", \"Total expense\", \"Total income\", \"Current Liabilities\", \"Inventory\", \"Working Capital\", \"Current Assets\", \"Quick Assets\", \"Cash\",\n",
    "                \"Inventory and accounts receivable\", \"Net profit before tax\", \"Operating profit\", \"Contingent liabilities\", \"Net worth\",\n",
    "                 \"Total debt\", \"Non-industry income and expenditure\"], inplace=True)\n",
    "    \n",
    "    return df"
   ]
  },
  {
   "cell_type": "code",
   "execution_count": 4,
   "id": "7599d5dd",
   "metadata": {},
   "outputs": [
    {
     "name": "stdout",
     "output_type": "stream",
     "text": [
      "<class 'pandas.core.frame.DataFrame'>\n",
      "RangeIndex: 6819 entries, 0 to 6818\n",
      "Data columns (total 77 columns):\n",
      " #   Column                                                   Non-Null Count  Dtype  \n",
      "---  ------                                                   --------------  -----  \n",
      " 0   ROA(C) before interest and depreciation before interest  6819 non-null   float64\n",
      " 1   ROA(A) before interest and % after tax                   6819 non-null   float64\n",
      " 2   ROA(B) before interest and depreciation after tax        6819 non-null   float64\n",
      " 3   Operating Gross Margin                                   6819 non-null   float64\n",
      " 4   Realized Sales Gross Margin                              6819 non-null   float64\n",
      " 5   Operating Profit Rate                                    6819 non-null   float64\n",
      " 6   Pre-tax net Interest Rate                                6819 non-null   float64\n",
      " 7   After-tax net Interest Rate                              6819 non-null   float64\n",
      " 8   Continuous interest rate (after tax)                     6819 non-null   float64\n",
      " 9   Operating Expense Rate                                   6819 non-null   float64\n",
      " 10  Research and development expense rate                    6819 non-null   float64\n",
      " 11  Cash flow rate                                           6819 non-null   float64\n",
      " 12  Interest-bearing debt interest rate                      6819 non-null   float64\n",
      " 13  Tax rate (A)                                             6819 non-null   float64\n",
      " 14  Net Value Per Share (B)                                  6819 non-null   float64\n",
      " 15  Net Value Per Share (A)                                  6819 non-null   float64\n",
      " 16  Net Value Per Share (C)                                  6819 non-null   float64\n",
      " 17  Persistent EPS in the Last Four Seasons                  6819 non-null   float64\n",
      " 18  Cash Flow Per Share                                      6819 non-null   float64\n",
      " 19  Revenue Per Share (Yuan ¥)                               6819 non-null   float64\n",
      " 20  Operating Profit Per Share (Yuan ¥)                      6819 non-null   float64\n",
      " 21  Per Share Net profit before tax (Yuan ¥)                 6819 non-null   float64\n",
      " 22  Realized Sales Gross Profit Growth Rate                  6819 non-null   float64\n",
      " 23  Operating Profit Growth Rate                             6819 non-null   float64\n",
      " 24  After-tax Net Profit Growth Rate                         6819 non-null   float64\n",
      " 25  Regular Net Profit Growth Rate                           6819 non-null   float64\n",
      " 26  Continuous Net Profit Growth Rate                        6819 non-null   float64\n",
      " 27  Total Asset Growth Rate                                  6819 non-null   float64\n",
      " 28  Net Value Growth Rate                                    6819 non-null   float64\n",
      " 29  Total Asset Return Growth Rate Ratio                     6819 non-null   float64\n",
      " 30  Cash Reinvestment %                                      6819 non-null   float64\n",
      " 31  Current Ratio                                            6819 non-null   float64\n",
      " 32  Quick Ratio                                              6819 non-null   float64\n",
      " 33  Interest Expense Ratio                                   6819 non-null   float64\n",
      " 34  Debt ratio %                                             6819 non-null   float64\n",
      " 35  Long-term fund suitability ratio (A)                     6819 non-null   float64\n",
      " 36  Borrowing dependency                                     6819 non-null   float64\n",
      " 37  Total Asset Turnover                                     6819 non-null   float64\n",
      " 38  Accounts Receivable Turnover                             6819 non-null   float64\n",
      " 39  Average Collection Days                                  6819 non-null   float64\n",
      " 40  Inventory Turnover Rate (times)                          6819 non-null   float64\n",
      " 41  Fixed Assets Turnover Frequency                          6819 non-null   float64\n",
      " 42  Net Worth Turnover Rate (times)                          6819 non-null   float64\n",
      " 43  Revenue per person                                       6819 non-null   float64\n",
      " 44  Operating profit per person                              6819 non-null   float64\n",
      " 45  Allocation rate per person                               6819 non-null   float64\n",
      " 46  Working Capital to Total Assets                          6819 non-null   float64\n",
      " 47  Current Liability to Assets                              6819 non-null   float64\n",
      " 48  Operating Funds to Liability                             6819 non-null   float64\n",
      " 49  Long-term Liability to Current Assets                    6819 non-null   float64\n",
      " 50  Retained Earnings to Total Assets                        6819 non-null   float64\n",
      " 51  Current Asset Turnover Rate                              6819 non-null   float64\n",
      " 52  Quick Asset Turnover Rate                                6819 non-null   float64\n",
      " 53  Working capitcal Turnover Rate                           6819 non-null   float64\n",
      " 54  Cash Turnover Rate                                       6819 non-null   float64\n",
      " 55  Cash Flow to Sales                                       6819 non-null   float64\n",
      " 56  Fixed Assets to Assets                                   6819 non-null   float64\n",
      " 57  Current Liability to Liability                           6819 non-null   float64\n",
      " 58  Current Liability to Equity                              6819 non-null   float64\n",
      " 59  Equity to Long-term Liability                            6819 non-null   float64\n",
      " 60  Cash Flow to Total Assets                                6819 non-null   float64\n",
      " 61  Cash Flow to Liability                                   6819 non-null   float64\n",
      " 62  CFO to Assets                                            6819 non-null   float64\n",
      " 63  Cash Flow to Equity                                      6819 non-null   float64\n",
      " 64  Current Liability to Current Assets                      6819 non-null   float64\n",
      " 65  Liability-Assets Flag                                    6819 non-null   int64  \n",
      " 66  Net Income to Total Assets                               6819 non-null   float64\n",
      " 67  Total assets to GNP price                                6819 non-null   float64\n",
      " 68  No-credit Interval                                       6819 non-null   float64\n",
      " 69  Gross Profit to Sales                                    6819 non-null   float64\n",
      " 70  Net Income to Stockholder's Equity                       6819 non-null   float64\n",
      " 71  Liability to Equity                                      6819 non-null   float64\n",
      " 72  Degree of Financial Leverage (DFL)                       6819 non-null   float64\n",
      " 73  Interest Coverage Ratio (Interest expense to EBIT)       6819 non-null   float64\n",
      " 74  Net Income Flag                                          6819 non-null   int64  \n",
      " 75  Equity to Liability                                      6819 non-null   float64\n",
      " 76  bankrupt                                                 6819 non-null   bool   \n",
      "dtypes: bool(1), float64(74), int64(2)\n",
      "memory usage: 4.0 MB\n",
      "None\n"
     ]
    },
    {
     "data": {
      "text/html": [
       "<div>\n",
       "<style scoped>\n",
       "    .dataframe tbody tr th:only-of-type {\n",
       "        vertical-align: middle;\n",
       "    }\n",
       "\n",
       "    .dataframe tbody tr th {\n",
       "        vertical-align: top;\n",
       "    }\n",
       "\n",
       "    .dataframe thead th {\n",
       "        text-align: right;\n",
       "    }\n",
       "</style>\n",
       "<table border=\"1\" class=\"dataframe\">\n",
       "  <thead>\n",
       "    <tr style=\"text-align: right;\">\n",
       "      <th></th>\n",
       "      <th>ROA(C) before interest and depreciation before interest</th>\n",
       "      <th>ROA(A) before interest and % after tax</th>\n",
       "      <th>ROA(B) before interest and depreciation after tax</th>\n",
       "      <th>Operating Gross Margin</th>\n",
       "      <th>Realized Sales Gross Margin</th>\n",
       "      <th>Operating Profit Rate</th>\n",
       "      <th>Pre-tax net Interest Rate</th>\n",
       "      <th>After-tax net Interest Rate</th>\n",
       "      <th>Continuous interest rate (after tax)</th>\n",
       "      <th>Operating Expense Rate</th>\n",
       "      <th>...</th>\n",
       "      <th>Total assets to GNP price</th>\n",
       "      <th>No-credit Interval</th>\n",
       "      <th>Gross Profit to Sales</th>\n",
       "      <th>Net Income to Stockholder's Equity</th>\n",
       "      <th>Liability to Equity</th>\n",
       "      <th>Degree of Financial Leverage (DFL)</th>\n",
       "      <th>Interest Coverage Ratio (Interest expense to EBIT)</th>\n",
       "      <th>Net Income Flag</th>\n",
       "      <th>Equity to Liability</th>\n",
       "      <th>bankrupt</th>\n",
       "    </tr>\n",
       "  </thead>\n",
       "  <tbody>\n",
       "    <tr>\n",
       "      <th>0</th>\n",
       "      <td>0.370594</td>\n",
       "      <td>0.424389</td>\n",
       "      <td>0.405750</td>\n",
       "      <td>0.601457</td>\n",
       "      <td>0.601457</td>\n",
       "      <td>0.998969</td>\n",
       "      <td>0.796887</td>\n",
       "      <td>0.808809</td>\n",
       "      <td>0.780985</td>\n",
       "      <td>1.256969e-04</td>\n",
       "      <td>...</td>\n",
       "      <td>0.009219</td>\n",
       "      <td>0.622879</td>\n",
       "      <td>0.601453</td>\n",
       "      <td>0.827890</td>\n",
       "      <td>0.290202</td>\n",
       "      <td>0.026601</td>\n",
       "      <td>0.564050</td>\n",
       "      <td>1</td>\n",
       "      <td>0.016469</td>\n",
       "      <td>True</td>\n",
       "    </tr>\n",
       "    <tr>\n",
       "      <th>1</th>\n",
       "      <td>0.464291</td>\n",
       "      <td>0.538214</td>\n",
       "      <td>0.516730</td>\n",
       "      <td>0.610235</td>\n",
       "      <td>0.610235</td>\n",
       "      <td>0.998946</td>\n",
       "      <td>0.797380</td>\n",
       "      <td>0.809301</td>\n",
       "      <td>0.781506</td>\n",
       "      <td>2.897851e-04</td>\n",
       "      <td>...</td>\n",
       "      <td>0.008323</td>\n",
       "      <td>0.623652</td>\n",
       "      <td>0.610237</td>\n",
       "      <td>0.839969</td>\n",
       "      <td>0.283846</td>\n",
       "      <td>0.264577</td>\n",
       "      <td>0.570175</td>\n",
       "      <td>1</td>\n",
       "      <td>0.020794</td>\n",
       "      <td>True</td>\n",
       "    </tr>\n",
       "    <tr>\n",
       "      <th>2</th>\n",
       "      <td>0.426071</td>\n",
       "      <td>0.499019</td>\n",
       "      <td>0.472295</td>\n",
       "      <td>0.601450</td>\n",
       "      <td>0.601364</td>\n",
       "      <td>0.998857</td>\n",
       "      <td>0.796403</td>\n",
       "      <td>0.808388</td>\n",
       "      <td>0.780284</td>\n",
       "      <td>2.361297e-04</td>\n",
       "      <td>...</td>\n",
       "      <td>0.040003</td>\n",
       "      <td>0.623841</td>\n",
       "      <td>0.601449</td>\n",
       "      <td>0.836774</td>\n",
       "      <td>0.290189</td>\n",
       "      <td>0.026555</td>\n",
       "      <td>0.563706</td>\n",
       "      <td>1</td>\n",
       "      <td>0.016474</td>\n",
       "      <td>True</td>\n",
       "    </tr>\n",
       "    <tr>\n",
       "      <th>3</th>\n",
       "      <td>0.399844</td>\n",
       "      <td>0.451265</td>\n",
       "      <td>0.457733</td>\n",
       "      <td>0.583541</td>\n",
       "      <td>0.583541</td>\n",
       "      <td>0.998700</td>\n",
       "      <td>0.796967</td>\n",
       "      <td>0.808966</td>\n",
       "      <td>0.781241</td>\n",
       "      <td>1.078888e-04</td>\n",
       "      <td>...</td>\n",
       "      <td>0.003252</td>\n",
       "      <td>0.622929</td>\n",
       "      <td>0.583538</td>\n",
       "      <td>0.834697</td>\n",
       "      <td>0.281721</td>\n",
       "      <td>0.026697</td>\n",
       "      <td>0.564663</td>\n",
       "      <td>1</td>\n",
       "      <td>0.023982</td>\n",
       "      <td>True</td>\n",
       "    </tr>\n",
       "    <tr>\n",
       "      <th>4</th>\n",
       "      <td>0.465022</td>\n",
       "      <td>0.538432</td>\n",
       "      <td>0.522298</td>\n",
       "      <td>0.598783</td>\n",
       "      <td>0.598783</td>\n",
       "      <td>0.998973</td>\n",
       "      <td>0.797366</td>\n",
       "      <td>0.809304</td>\n",
       "      <td>0.781550</td>\n",
       "      <td>7.890000e+09</td>\n",
       "      <td>...</td>\n",
       "      <td>0.003878</td>\n",
       "      <td>0.623521</td>\n",
       "      <td>0.598782</td>\n",
       "      <td>0.839973</td>\n",
       "      <td>0.278514</td>\n",
       "      <td>0.024752</td>\n",
       "      <td>0.575617</td>\n",
       "      <td>1</td>\n",
       "      <td>0.035490</td>\n",
       "      <td>True</td>\n",
       "    </tr>\n",
       "  </tbody>\n",
       "</table>\n",
       "<p>5 rows × 77 columns</p>\n",
       "</div>"
      ],
      "text/plain": [
       "   ROA(C) before interest and depreciation before interest  \\\n",
       "0                                           0.370594         \n",
       "1                                           0.464291         \n",
       "2                                           0.426071         \n",
       "3                                           0.399844         \n",
       "4                                           0.465022         \n",
       "\n",
       "   ROA(A) before interest and % after tax  \\\n",
       "0                                0.424389   \n",
       "1                                0.538214   \n",
       "2                                0.499019   \n",
       "3                                0.451265   \n",
       "4                                0.538432   \n",
       "\n",
       "   ROA(B) before interest and depreciation after tax  Operating Gross Margin  \\\n",
       "0                                           0.405750                0.601457   \n",
       "1                                           0.516730                0.610235   \n",
       "2                                           0.472295                0.601450   \n",
       "3                                           0.457733                0.583541   \n",
       "4                                           0.522298                0.598783   \n",
       "\n",
       "   Realized Sales Gross Margin  Operating Profit Rate  \\\n",
       "0                     0.601457               0.998969   \n",
       "1                     0.610235               0.998946   \n",
       "2                     0.601364               0.998857   \n",
       "3                     0.583541               0.998700   \n",
       "4                     0.598783               0.998973   \n",
       "\n",
       "   Pre-tax net Interest Rate  After-tax net Interest Rate  \\\n",
       "0                   0.796887                     0.808809   \n",
       "1                   0.797380                     0.809301   \n",
       "2                   0.796403                     0.808388   \n",
       "3                   0.796967                     0.808966   \n",
       "4                   0.797366                     0.809304   \n",
       "\n",
       "   Continuous interest rate (after tax)  Operating Expense Rate  ...  \\\n",
       "0                              0.780985            1.256969e-04  ...   \n",
       "1                              0.781506            2.897851e-04  ...   \n",
       "2                              0.780284            2.361297e-04  ...   \n",
       "3                              0.781241            1.078888e-04  ...   \n",
       "4                              0.781550            7.890000e+09  ...   \n",
       "\n",
       "   Total assets to GNP price  No-credit Interval  Gross Profit to Sales  \\\n",
       "0                   0.009219            0.622879               0.601453   \n",
       "1                   0.008323            0.623652               0.610237   \n",
       "2                   0.040003            0.623841               0.601449   \n",
       "3                   0.003252            0.622929               0.583538   \n",
       "4                   0.003878            0.623521               0.598782   \n",
       "\n",
       "   Net Income to Stockholder's Equity  Liability to Equity  \\\n",
       "0                            0.827890             0.290202   \n",
       "1                            0.839969             0.283846   \n",
       "2                            0.836774             0.290189   \n",
       "3                            0.834697             0.281721   \n",
       "4                            0.839973             0.278514   \n",
       "\n",
       "   Degree of Financial Leverage (DFL)  \\\n",
       "0                            0.026601   \n",
       "1                            0.264577   \n",
       "2                            0.026555   \n",
       "3                            0.026697   \n",
       "4                            0.024752   \n",
       "\n",
       "   Interest Coverage Ratio (Interest expense to EBIT)  Net Income Flag  \\\n",
       "0                                           0.564050                 1   \n",
       "1                                           0.570175                 1   \n",
       "2                                           0.563706                 1   \n",
       "3                                           0.564663                 1   \n",
       "4                                           0.575617                 1   \n",
       "\n",
       "   Equity to Liability  bankrupt  \n",
       "0             0.016469      True  \n",
       "1             0.020794      True  \n",
       "2             0.016474      True  \n",
       "3             0.023982      True  \n",
       "4             0.035490      True  \n",
       "\n",
       "[5 rows x 77 columns]"
      ]
     },
     "execution_count": 4,
     "metadata": {},
     "output_type": "execute_result"
    }
   ],
   "source": [
    "df = wrangle(\"taiwon_bankruptcy_data.json\")\n",
    "print(df.info())\n",
    "df.head()"
   ]
  },
  {
   "cell_type": "markdown",
   "id": "56448d8f",
   "metadata": {},
   "source": [
    "### Split\n",
    "\n",
    "Create your feature matrix X and target vector y. target is \"bankrupt\"."
   ]
  },
  {
   "cell_type": "code",
   "execution_count": 5,
   "id": "6c290159",
   "metadata": {},
   "outputs": [],
   "source": [
    "target = \"bankrupt\"\n",
    "\n",
    "y = df[target]\n",
    "X = df.drop(columns=[target])"
   ]
  },
  {
   "cell_type": "markdown",
   "id": "19f16db4",
   "metadata": {},
   "source": [
    "Divide the data (X and y) into training and test sets using a randomized train-test split. test set should be 20% of your total data. And don't forget to set a random_state for reproducibility."
   ]
  },
  {
   "cell_type": "code",
   "execution_count": 6,
   "id": "19bfb68f",
   "metadata": {},
   "outputs": [
    {
     "name": "stdout",
     "output_type": "stream",
     "text": [
      "(5455, 76)\n",
      "(5455,)\n",
      "(1364, 76)\n",
      "(1364,)\n"
     ]
    }
   ],
   "source": [
    "X_train, X_test, y_train, y_test = train_test_split(\n",
    "    X, y, test_size=0.2, random_state=40\n",
    ")\n",
    "print(X_train.shape)\n",
    "print(y_train.shape)\n",
    "print(X_test.shape)\n",
    "print(y_test.shape)"
   ]
  },
  {
   "cell_type": "markdown",
   "id": "104d4170",
   "metadata": {},
   "source": [
    "### Baseline"
   ]
  },
  {
   "cell_type": "code",
   "execution_count": 7,
   "id": "069e2443",
   "metadata": {},
   "outputs": [
    {
     "name": "stdout",
     "output_type": "stream",
     "text": [
      "accuracy baseline: 0.9686526122823098\n"
     ]
    }
   ],
   "source": [
    "acc_baseline = y_train.value_counts(normalize=True).max()\n",
    "print(\"accuracy baseline:\", acc_baseline)"
   ]
  },
  {
   "cell_type": "markdown",
   "id": "e2e221e3",
   "metadata": {},
   "source": [
    " Create a new feature matrix X_train_over and target vector y_train_over by performing random over-sampling on the training data."
   ]
  },
  {
   "cell_type": "code",
   "execution_count": 8,
   "id": "d2832b82",
   "metadata": {},
   "outputs": [
    {
     "name": "stdout",
     "output_type": "stream",
     "text": [
      "(10568, 76)\n"
     ]
    },
    {
     "data": {
      "text/html": [
       "<div>\n",
       "<style scoped>\n",
       "    .dataframe tbody tr th:only-of-type {\n",
       "        vertical-align: middle;\n",
       "    }\n",
       "\n",
       "    .dataframe tbody tr th {\n",
       "        vertical-align: top;\n",
       "    }\n",
       "\n",
       "    .dataframe thead th {\n",
       "        text-align: right;\n",
       "    }\n",
       "</style>\n",
       "<table border=\"1\" class=\"dataframe\">\n",
       "  <thead>\n",
       "    <tr style=\"text-align: right;\">\n",
       "      <th></th>\n",
       "      <th>ROA(C) before interest and depreciation before interest</th>\n",
       "      <th>ROA(A) before interest and % after tax</th>\n",
       "      <th>ROA(B) before interest and depreciation after tax</th>\n",
       "      <th>Operating Gross Margin</th>\n",
       "      <th>Realized Sales Gross Margin</th>\n",
       "      <th>Operating Profit Rate</th>\n",
       "      <th>Pre-tax net Interest Rate</th>\n",
       "      <th>After-tax net Interest Rate</th>\n",
       "      <th>Continuous interest rate (after tax)</th>\n",
       "      <th>Operating Expense Rate</th>\n",
       "      <th>...</th>\n",
       "      <th>Net Income to Total Assets</th>\n",
       "      <th>Total assets to GNP price</th>\n",
       "      <th>No-credit Interval</th>\n",
       "      <th>Gross Profit to Sales</th>\n",
       "      <th>Net Income to Stockholder's Equity</th>\n",
       "      <th>Liability to Equity</th>\n",
       "      <th>Degree of Financial Leverage (DFL)</th>\n",
       "      <th>Interest Coverage Ratio (Interest expense to EBIT)</th>\n",
       "      <th>Net Income Flag</th>\n",
       "      <th>Equity to Liability</th>\n",
       "    </tr>\n",
       "  </thead>\n",
       "  <tbody>\n",
       "    <tr>\n",
       "      <th>0</th>\n",
       "      <td>0.458685</td>\n",
       "      <td>0.454154</td>\n",
       "      <td>0.508432</td>\n",
       "      <td>0.576111</td>\n",
       "      <td>0.576111</td>\n",
       "      <td>0.998487</td>\n",
       "      <td>0.796446</td>\n",
       "      <td>0.808405</td>\n",
       "      <td>0.780658</td>\n",
       "      <td>2.015544e-04</td>\n",
       "      <td>...</td>\n",
       "      <td>0.744635</td>\n",
       "      <td>0.003754</td>\n",
       "      <td>0.623349</td>\n",
       "      <td>0.576107</td>\n",
       "      <td>0.835667</td>\n",
       "      <td>0.280350</td>\n",
       "      <td>0.026620</td>\n",
       "      <td>0.564182</td>\n",
       "      <td>1</td>\n",
       "      <td>0.027308</td>\n",
       "    </tr>\n",
       "    <tr>\n",
       "      <th>1</th>\n",
       "      <td>0.460830</td>\n",
       "      <td>0.511121</td>\n",
       "      <td>0.512875</td>\n",
       "      <td>0.613824</td>\n",
       "      <td>0.613846</td>\n",
       "      <td>0.999073</td>\n",
       "      <td>0.797296</td>\n",
       "      <td>0.809228</td>\n",
       "      <td>0.781469</td>\n",
       "      <td>2.204032e-04</td>\n",
       "      <td>...</td>\n",
       "      <td>0.779891</td>\n",
       "      <td>0.003578</td>\n",
       "      <td>0.623892</td>\n",
       "      <td>0.613825</td>\n",
       "      <td>0.838791</td>\n",
       "      <td>0.279278</td>\n",
       "      <td>0.026504</td>\n",
       "      <td>0.563281</td>\n",
       "      <td>1</td>\n",
       "      <td>0.031291</td>\n",
       "    </tr>\n",
       "    <tr>\n",
       "      <th>2</th>\n",
       "      <td>0.534052</td>\n",
       "      <td>0.582316</td>\n",
       "      <td>0.579046</td>\n",
       "      <td>0.604715</td>\n",
       "      <td>0.604715</td>\n",
       "      <td>0.999086</td>\n",
       "      <td>0.797629</td>\n",
       "      <td>0.809488</td>\n",
       "      <td>0.781761</td>\n",
       "      <td>6.060000e+09</td>\n",
       "      <td>...</td>\n",
       "      <td>0.824112</td>\n",
       "      <td>0.002887</td>\n",
       "      <td>0.622335</td>\n",
       "      <td>0.604710</td>\n",
       "      <td>0.842178</td>\n",
       "      <td>0.279005</td>\n",
       "      <td>0.026815</td>\n",
       "      <td>0.565268</td>\n",
       "      <td>1</td>\n",
       "      <td>0.032620</td>\n",
       "    </tr>\n",
       "    <tr>\n",
       "      <th>3</th>\n",
       "      <td>0.435187</td>\n",
       "      <td>0.503598</td>\n",
       "      <td>0.502543</td>\n",
       "      <td>0.614869</td>\n",
       "      <td>0.615150</td>\n",
       "      <td>0.998929</td>\n",
       "      <td>0.797187</td>\n",
       "      <td>0.809198</td>\n",
       "      <td>0.781445</td>\n",
       "      <td>3.859946e-04</td>\n",
       "      <td>...</td>\n",
       "      <td>0.778489</td>\n",
       "      <td>0.000431</td>\n",
       "      <td>0.623888</td>\n",
       "      <td>0.614866</td>\n",
       "      <td>0.838912</td>\n",
       "      <td>0.277383</td>\n",
       "      <td>0.026787</td>\n",
       "      <td>0.565138</td>\n",
       "      <td>1</td>\n",
       "      <td>0.046061</td>\n",
       "    </tr>\n",
       "    <tr>\n",
       "      <th>4</th>\n",
       "      <td>0.521279</td>\n",
       "      <td>0.611971</td>\n",
       "      <td>0.575245</td>\n",
       "      <td>0.661994</td>\n",
       "      <td>0.661994</td>\n",
       "      <td>0.999586</td>\n",
       "      <td>0.798297</td>\n",
       "      <td>0.810146</td>\n",
       "      <td>0.782231</td>\n",
       "      <td>4.800071e-04</td>\n",
       "      <td>...</td>\n",
       "      <td>0.830972</td>\n",
       "      <td>0.005061</td>\n",
       "      <td>0.625087</td>\n",
       "      <td>0.661992</td>\n",
       "      <td>0.843016</td>\n",
       "      <td>0.280308</td>\n",
       "      <td>0.026856</td>\n",
       "      <td>0.565449</td>\n",
       "      <td>1</td>\n",
       "      <td>0.027435</td>\n",
       "    </tr>\n",
       "  </tbody>\n",
       "</table>\n",
       "<p>5 rows × 76 columns</p>\n",
       "</div>"
      ],
      "text/plain": [
       "   ROA(C) before interest and depreciation before interest  \\\n",
       "0                                           0.458685         \n",
       "1                                           0.460830         \n",
       "2                                           0.534052         \n",
       "3                                           0.435187         \n",
       "4                                           0.521279         \n",
       "\n",
       "   ROA(A) before interest and % after tax  \\\n",
       "0                                0.454154   \n",
       "1                                0.511121   \n",
       "2                                0.582316   \n",
       "3                                0.503598   \n",
       "4                                0.611971   \n",
       "\n",
       "   ROA(B) before interest and depreciation after tax  Operating Gross Margin  \\\n",
       "0                                           0.508432                0.576111   \n",
       "1                                           0.512875                0.613824   \n",
       "2                                           0.579046                0.604715   \n",
       "3                                           0.502543                0.614869   \n",
       "4                                           0.575245                0.661994   \n",
       "\n",
       "   Realized Sales Gross Margin  Operating Profit Rate  \\\n",
       "0                     0.576111               0.998487   \n",
       "1                     0.613846               0.999073   \n",
       "2                     0.604715               0.999086   \n",
       "3                     0.615150               0.998929   \n",
       "4                     0.661994               0.999586   \n",
       "\n",
       "   Pre-tax net Interest Rate  After-tax net Interest Rate  \\\n",
       "0                   0.796446                     0.808405   \n",
       "1                   0.797296                     0.809228   \n",
       "2                   0.797629                     0.809488   \n",
       "3                   0.797187                     0.809198   \n",
       "4                   0.798297                     0.810146   \n",
       "\n",
       "   Continuous interest rate (after tax)  Operating Expense Rate  ...  \\\n",
       "0                              0.780658            2.015544e-04  ...   \n",
       "1                              0.781469            2.204032e-04  ...   \n",
       "2                              0.781761            6.060000e+09  ...   \n",
       "3                              0.781445            3.859946e-04  ...   \n",
       "4                              0.782231            4.800071e-04  ...   \n",
       "\n",
       "   Net Income to Total Assets  Total assets to GNP price  No-credit Interval  \\\n",
       "0                    0.744635                   0.003754            0.623349   \n",
       "1                    0.779891                   0.003578            0.623892   \n",
       "2                    0.824112                   0.002887            0.622335   \n",
       "3                    0.778489                   0.000431            0.623888   \n",
       "4                    0.830972                   0.005061            0.625087   \n",
       "\n",
       "   Gross Profit to Sales  Net Income to Stockholder's Equity  \\\n",
       "0               0.576107                            0.835667   \n",
       "1               0.613825                            0.838791   \n",
       "2               0.604710                            0.842178   \n",
       "3               0.614866                            0.838912   \n",
       "4               0.661992                            0.843016   \n",
       "\n",
       "   Liability to Equity  Degree of Financial Leverage (DFL)  \\\n",
       "0             0.280350                            0.026620   \n",
       "1             0.279278                            0.026504   \n",
       "2             0.279005                            0.026815   \n",
       "3             0.277383                            0.026787   \n",
       "4             0.280308                            0.026856   \n",
       "\n",
       "   Interest Coverage Ratio (Interest expense to EBIT)  Net Income Flag  \\\n",
       "0                                           0.564182                 1   \n",
       "1                                           0.563281                 1   \n",
       "2                                           0.565268                 1   \n",
       "3                                           0.565138                 1   \n",
       "4                                           0.565449                 1   \n",
       "\n",
       "   Equity to Liability  \n",
       "0             0.027308  \n",
       "1             0.031291  \n",
       "2             0.032620  \n",
       "3             0.046061  \n",
       "4             0.027435  \n",
       "\n",
       "[5 rows x 76 columns]"
      ]
     },
     "execution_count": 8,
     "metadata": {},
     "output_type": "execute_result"
    }
   ],
   "source": [
    "over_sampler = RandomOverSampler(random_state=40)\n",
    "X_train_over, y_train_over = over_sampler.fit_resample(X_train, y_train)\n",
    "\n",
    "print(X_train_over.shape)\n",
    "X_train_over.head()"
   ]
  },
  {
   "cell_type": "markdown",
   "id": "66ae7ad0",
   "metadata": {},
   "source": [
    "### Iterate\n",
    "\n",
    "So far, i built single models that predict a single outcome. That's definitely a useful way to predict the future, but what if the one model i built isn't the right one? If we could somehow use more than one model simultaneously, we'd have a more trustworthy prediction.\n",
    "\n",
    "Ensemble models work by building multiple models on random subsets of the same data, and then comparing their predictions to make a final prediction. Since i used a decision tree in the last project, i am going to create an ensemble of trees here. This type of model is called a random forest.\n",
    "\n",
    "We'll start by creating a pipeline to streamline our workflow."
   ]
  },
  {
   "cell_type": "code",
   "execution_count": 9,
   "id": "e89e12ad",
   "metadata": {},
   "outputs": [
    {
     "data": {
      "text/plain": [
       "Pipeline(steps=[('simpleimputer', SimpleImputer()),\n",
       "                ('randomforestclassifier',\n",
       "                 RandomForestClassifier(random_state=40))])"
      ]
     },
     "execution_count": 9,
     "metadata": {},
     "output_type": "execute_result"
    }
   ],
   "source": [
    "clf = make_pipeline(\n",
    "    SimpleImputer(),\n",
    "    RandomForestClassifier(random_state=40)\n",
    ")\n",
    "clf"
   ]
  },
  {
   "cell_type": "markdown",
   "id": "94c3dee4",
   "metadata": {},
   "source": [
    "Perform cross-validation with your classifier, using the over-sampled training data. We want five folds, so set cv to 5. We also want to speed up training, to set n_jobs to -1."
   ]
  },
  {
   "cell_type": "code",
   "execution_count": 10,
   "id": "1ead31f3",
   "metadata": {},
   "outputs": [
    {
     "name": "stdout",
     "output_type": "stream",
     "text": [
      "[0.99432356 0.99526963 0.99479659 0.99432087 0.99621391]\n"
     ]
    }
   ],
   "source": [
    "cross_val_scores = cross_val_score(clf, X_train_over, y_train_over, cv=5, n_jobs=-1)\n",
    "print(cross_val_scores)"
   ]
  },
  {
   "cell_type": "markdown",
   "id": "880edb85",
   "metadata": {},
   "source": [
    "Create a dictionary with the range of hyperparameters that we want to evaluate for our classifier.\n",
    "\n",
    ">1.For the SimpleImputer, try both the \"mean\" and \"median\" strategies.\n",
    "\n",
    ">2.For the RandomForestClassifier, try max_depth settings between 10 and 50, by steps of 10.\n",
    "\n",
    ">3.Also for the RandomForestClassifier, try n_estimators settings between 25 and 100 by steps of 25."
   ]
  },
  {
   "cell_type": "code",
   "execution_count": 11,
   "id": "2df7d3fa",
   "metadata": {},
   "outputs": [
    {
     "data": {
      "text/plain": [
       "{'simpleimputer__strategy': ['mean', 'median'],\n",
       " 'randomforestclassifier__n_estimators': range(25, 100, 25),\n",
       " 'randomforestclassifier__max_depth': range(10, 50, 10)}"
      ]
     },
     "execution_count": 11,
     "metadata": {},
     "output_type": "execute_result"
    }
   ],
   "source": [
    "params = {\n",
    "    \"simpleimputer__strategy\": [\"mean\", \"median\"],\n",
    "    \"randomforestclassifier__n_estimators\": range(25, 100, 25),\n",
    "    \"randomforestclassifier__max_depth\": range(10, 50, 10)\n",
    "}\n",
    "params"
   ]
  },
  {
   "cell_type": "markdown",
   "id": "c8c76ad6",
   "metadata": {},
   "source": [
    "Creating a GridSearchCV named model that includes the classifier and hyperparameter grid, and i will use the same arguments for cv and n_jobs that you used above, and set verbose to 1."
   ]
  },
  {
   "cell_type": "code",
   "execution_count": 12,
   "id": "434193d9",
   "metadata": {},
   "outputs": [
    {
     "data": {
      "text/plain": [
       "GridSearchCV(cv=5,\n",
       "             estimator=Pipeline(steps=[('simpleimputer', SimpleImputer()),\n",
       "                                       ('randomforestclassifier',\n",
       "                                        RandomForestClassifier(random_state=40))]),\n",
       "             n_jobs=-1,\n",
       "             param_grid={'randomforestclassifier__max_depth': range(10, 50, 10),\n",
       "                         'randomforestclassifier__n_estimators': range(25, 100, 25),\n",
       "                         'simpleimputer__strategy': ['mean', 'median']},\n",
       "             verbose=1)"
      ]
     },
     "execution_count": 12,
     "metadata": {},
     "output_type": "execute_result"
    }
   ],
   "source": [
    "model = GridSearchCV(\n",
    "    clf,\n",
    "    param_grid=params,\n",
    "    cv=5,\n",
    "    n_jobs=-1,\n",
    "    verbose=1\n",
    ")\n",
    "model"
   ]
  },
  {
   "cell_type": "markdown",
   "id": "97121fbf",
   "metadata": {},
   "source": [
    "Fit model to the over-sampled training data."
   ]
  },
  {
   "cell_type": "code",
   "execution_count": 13,
   "id": "8e94e679",
   "metadata": {},
   "outputs": [
    {
     "name": "stdout",
     "output_type": "stream",
     "text": [
      "Fitting 5 folds for each of 24 candidates, totalling 120 fits\n"
     ]
    },
    {
     "data": {
      "text/plain": [
       "GridSearchCV(cv=5,\n",
       "             estimator=Pipeline(steps=[('simpleimputer', SimpleImputer()),\n",
       "                                       ('randomforestclassifier',\n",
       "                                        RandomForestClassifier(random_state=40))]),\n",
       "             n_jobs=-1,\n",
       "             param_grid={'randomforestclassifier__max_depth': range(10, 50, 10),\n",
       "                         'randomforestclassifier__n_estimators': range(25, 100, 25),\n",
       "                         'simpleimputer__strategy': ['mean', 'median']},\n",
       "             verbose=1)"
      ]
     },
     "execution_count": 13,
     "metadata": {},
     "output_type": "execute_result"
    }
   ],
   "source": [
    "model.fit(X_train_over, y_train_over)"
   ]
  },
  {
   "cell_type": "markdown",
   "id": "181cdeb4",
   "metadata": {},
   "source": [
    "This will take some time to train, so let's take a moment to think about why. How many forests did we just test? 4 different max_depths times 3 n_estimators times 2 imputation strategies... that makes 24 forests. How many fits did we just do? 24 forests times 5 folds is 120. And remember that each forest is comprised of 25-75 trees, which works out to at least 3,000 trees. So it's computationally expensive!\n",
    "\n",
    "Okay, now that we've tested all those models, let's take a look at the results."
   ]
  },
  {
   "cell_type": "code",
   "execution_count": 35,
   "id": "ee129cdf",
   "metadata": {},
   "outputs": [
    {
     "data": {
      "text/plain": [
       "dict"
      ]
     },
     "execution_count": 35,
     "metadata": {},
     "output_type": "execute_result"
    }
   ],
   "source": [
    "type(model.cv_results_)"
   ]
  },
  {
   "cell_type": "code",
   "execution_count": 24,
   "id": "c69c56a3",
   "metadata": {},
   "outputs": [
    {
     "data": {
      "text/html": [
       "<div>\n",
       "<style scoped>\n",
       "    .dataframe tbody tr th:only-of-type {\n",
       "        vertical-align: middle;\n",
       "    }\n",
       "\n",
       "    .dataframe tbody tr th {\n",
       "        vertical-align: top;\n",
       "    }\n",
       "\n",
       "    .dataframe thead th {\n",
       "        text-align: right;\n",
       "    }\n",
       "</style>\n",
       "<table border=\"1\" class=\"dataframe\">\n",
       "  <thead>\n",
       "    <tr style=\"text-align: right;\">\n",
       "      <th></th>\n",
       "      <th>mean_fit_time</th>\n",
       "      <th>std_fit_time</th>\n",
       "      <th>mean_score_time</th>\n",
       "      <th>std_score_time</th>\n",
       "      <th>param_randomforestclassifier__max_depth</th>\n",
       "      <th>param_randomforestclassifier__n_estimators</th>\n",
       "      <th>param_simpleimputer__strategy</th>\n",
       "      <th>params</th>\n",
       "      <th>split0_test_score</th>\n",
       "      <th>split1_test_score</th>\n",
       "      <th>split2_test_score</th>\n",
       "      <th>split3_test_score</th>\n",
       "      <th>split4_test_score</th>\n",
       "      <th>mean_test_score</th>\n",
       "      <th>std_test_score</th>\n",
       "      <th>rank_test_score</th>\n",
       "    </tr>\n",
       "  </thead>\n",
       "  <tbody>\n",
       "    <tr>\n",
       "      <th>0</th>\n",
       "      <td>8.518475</td>\n",
       "      <td>0.263293</td>\n",
       "      <td>0.202483</td>\n",
       "      <td>0.074920</td>\n",
       "      <td>10</td>\n",
       "      <td>25</td>\n",
       "      <td>mean</td>\n",
       "      <td>{'randomforestclassifier__max_depth': 10, 'ran...</td>\n",
       "      <td>0.982971</td>\n",
       "      <td>0.982971</td>\n",
       "      <td>0.983444</td>\n",
       "      <td>0.980596</td>\n",
       "      <td>0.982963</td>\n",
       "      <td>0.982589</td>\n",
       "      <td>0.001013</td>\n",
       "      <td>19</td>\n",
       "    </tr>\n",
       "    <tr>\n",
       "      <th>1</th>\n",
       "      <td>10.756887</td>\n",
       "      <td>0.859758</td>\n",
       "      <td>0.197886</td>\n",
       "      <td>0.041981</td>\n",
       "      <td>10</td>\n",
       "      <td>25</td>\n",
       "      <td>median</td>\n",
       "      <td>{'randomforestclassifier__max_depth': 10, 'ran...</td>\n",
       "      <td>0.982971</td>\n",
       "      <td>0.982971</td>\n",
       "      <td>0.983444</td>\n",
       "      <td>0.980596</td>\n",
       "      <td>0.982963</td>\n",
       "      <td>0.982589</td>\n",
       "      <td>0.001013</td>\n",
       "      <td>19</td>\n",
       "    </tr>\n",
       "    <tr>\n",
       "      <th>2</th>\n",
       "      <td>15.473881</td>\n",
       "      <td>1.602740</td>\n",
       "      <td>0.247253</td>\n",
       "      <td>0.073397</td>\n",
       "      <td>10</td>\n",
       "      <td>50</td>\n",
       "      <td>mean</td>\n",
       "      <td>{'randomforestclassifier__max_depth': 10, 'ran...</td>\n",
       "      <td>0.981079</td>\n",
       "      <td>0.982971</td>\n",
       "      <td>0.983917</td>\n",
       "      <td>0.979650</td>\n",
       "      <td>0.983436</td>\n",
       "      <td>0.982210</td>\n",
       "      <td>0.001602</td>\n",
       "      <td>23</td>\n",
       "    </tr>\n",
       "    <tr>\n",
       "      <th>3</th>\n",
       "      <td>15.014488</td>\n",
       "      <td>0.218834</td>\n",
       "      <td>0.281901</td>\n",
       "      <td>0.061239</td>\n",
       "      <td>10</td>\n",
       "      <td>50</td>\n",
       "      <td>median</td>\n",
       "      <td>{'randomforestclassifier__max_depth': 10, 'ran...</td>\n",
       "      <td>0.981079</td>\n",
       "      <td>0.982971</td>\n",
       "      <td>0.983917</td>\n",
       "      <td>0.979650</td>\n",
       "      <td>0.983436</td>\n",
       "      <td>0.982210</td>\n",
       "      <td>0.001602</td>\n",
       "      <td>23</td>\n",
       "    </tr>\n",
       "    <tr>\n",
       "      <th>4</th>\n",
       "      <td>24.353707</td>\n",
       "      <td>2.195166</td>\n",
       "      <td>0.469937</td>\n",
       "      <td>0.191015</td>\n",
       "      <td>10</td>\n",
       "      <td>75</td>\n",
       "      <td>mean</td>\n",
       "      <td>{'randomforestclassifier__max_depth': 10, 'ran...</td>\n",
       "      <td>0.982498</td>\n",
       "      <td>0.982025</td>\n",
       "      <td>0.982971</td>\n",
       "      <td>0.980123</td>\n",
       "      <td>0.983909</td>\n",
       "      <td>0.982305</td>\n",
       "      <td>0.001256</td>\n",
       "      <td>21</td>\n",
       "    </tr>\n",
       "    <tr>\n",
       "      <th>5</th>\n",
       "      <td>25.200432</td>\n",
       "      <td>2.110759</td>\n",
       "      <td>0.367783</td>\n",
       "      <td>0.039945</td>\n",
       "      <td>10</td>\n",
       "      <td>75</td>\n",
       "      <td>median</td>\n",
       "      <td>{'randomforestclassifier__max_depth': 10, 'ran...</td>\n",
       "      <td>0.982498</td>\n",
       "      <td>0.982025</td>\n",
       "      <td>0.982971</td>\n",
       "      <td>0.980123</td>\n",
       "      <td>0.983909</td>\n",
       "      <td>0.982305</td>\n",
       "      <td>0.001256</td>\n",
       "      <td>21</td>\n",
       "    </tr>\n",
       "    <tr>\n",
       "      <th>6</th>\n",
       "      <td>9.032510</td>\n",
       "      <td>0.457583</td>\n",
       "      <td>0.153710</td>\n",
       "      <td>0.050444</td>\n",
       "      <td>20</td>\n",
       "      <td>25</td>\n",
       "      <td>mean</td>\n",
       "      <td>{'randomforestclassifier__max_depth': 20, 'ran...</td>\n",
       "      <td>0.990539</td>\n",
       "      <td>0.991485</td>\n",
       "      <td>0.989120</td>\n",
       "      <td>0.989115</td>\n",
       "      <td>0.991955</td>\n",
       "      <td>0.990443</td>\n",
       "      <td>0.001174</td>\n",
       "      <td>17</td>\n",
       "    </tr>\n",
       "    <tr>\n",
       "      <th>7</th>\n",
       "      <td>9.465758</td>\n",
       "      <td>0.492382</td>\n",
       "      <td>0.200286</td>\n",
       "      <td>0.068489</td>\n",
       "      <td>20</td>\n",
       "      <td>25</td>\n",
       "      <td>median</td>\n",
       "      <td>{'randomforestclassifier__max_depth': 20, 'ran...</td>\n",
       "      <td>0.990539</td>\n",
       "      <td>0.991485</td>\n",
       "      <td>0.989120</td>\n",
       "      <td>0.989115</td>\n",
       "      <td>0.991955</td>\n",
       "      <td>0.990443</td>\n",
       "      <td>0.001174</td>\n",
       "      <td>17</td>\n",
       "    </tr>\n",
       "    <tr>\n",
       "      <th>8</th>\n",
       "      <td>16.846314</td>\n",
       "      <td>0.561583</td>\n",
       "      <td>0.233066</td>\n",
       "      <td>0.038588</td>\n",
       "      <td>20</td>\n",
       "      <td>50</td>\n",
       "      <td>mean</td>\n",
       "      <td>{'randomforestclassifier__max_depth': 20, 'ran...</td>\n",
       "      <td>0.991958</td>\n",
       "      <td>0.992904</td>\n",
       "      <td>0.990539</td>\n",
       "      <td>0.989115</td>\n",
       "      <td>0.993374</td>\n",
       "      <td>0.991578</td>\n",
       "      <td>0.001567</td>\n",
       "      <td>15</td>\n",
       "    </tr>\n",
       "    <tr>\n",
       "      <th>9</th>\n",
       "      <td>19.088584</td>\n",
       "      <td>0.565154</td>\n",
       "      <td>0.331211</td>\n",
       "      <td>0.076667</td>\n",
       "      <td>20</td>\n",
       "      <td>50</td>\n",
       "      <td>median</td>\n",
       "      <td>{'randomforestclassifier__max_depth': 20, 'ran...</td>\n",
       "      <td>0.991958</td>\n",
       "      <td>0.992904</td>\n",
       "      <td>0.990539</td>\n",
       "      <td>0.989115</td>\n",
       "      <td>0.993374</td>\n",
       "      <td>0.991578</td>\n",
       "      <td>0.001567</td>\n",
       "      <td>15</td>\n",
       "    </tr>\n",
       "  </tbody>\n",
       "</table>\n",
       "</div>"
      ],
      "text/plain": [
       "   mean_fit_time  std_fit_time  mean_score_time  std_score_time  \\\n",
       "0       8.518475      0.263293         0.202483        0.074920   \n",
       "1      10.756887      0.859758         0.197886        0.041981   \n",
       "2      15.473881      1.602740         0.247253        0.073397   \n",
       "3      15.014488      0.218834         0.281901        0.061239   \n",
       "4      24.353707      2.195166         0.469937        0.191015   \n",
       "5      25.200432      2.110759         0.367783        0.039945   \n",
       "6       9.032510      0.457583         0.153710        0.050444   \n",
       "7       9.465758      0.492382         0.200286        0.068489   \n",
       "8      16.846314      0.561583         0.233066        0.038588   \n",
       "9      19.088584      0.565154         0.331211        0.076667   \n",
       "\n",
       "  param_randomforestclassifier__max_depth  \\\n",
       "0                                      10   \n",
       "1                                      10   \n",
       "2                                      10   \n",
       "3                                      10   \n",
       "4                                      10   \n",
       "5                                      10   \n",
       "6                                      20   \n",
       "7                                      20   \n",
       "8                                      20   \n",
       "9                                      20   \n",
       "\n",
       "  param_randomforestclassifier__n_estimators param_simpleimputer__strategy  \\\n",
       "0                                         25                          mean   \n",
       "1                                         25                        median   \n",
       "2                                         50                          mean   \n",
       "3                                         50                        median   \n",
       "4                                         75                          mean   \n",
       "5                                         75                        median   \n",
       "6                                         25                          mean   \n",
       "7                                         25                        median   \n",
       "8                                         50                          mean   \n",
       "9                                         50                        median   \n",
       "\n",
       "                                              params  split0_test_score  \\\n",
       "0  {'randomforestclassifier__max_depth': 10, 'ran...           0.982971   \n",
       "1  {'randomforestclassifier__max_depth': 10, 'ran...           0.982971   \n",
       "2  {'randomforestclassifier__max_depth': 10, 'ran...           0.981079   \n",
       "3  {'randomforestclassifier__max_depth': 10, 'ran...           0.981079   \n",
       "4  {'randomforestclassifier__max_depth': 10, 'ran...           0.982498   \n",
       "5  {'randomforestclassifier__max_depth': 10, 'ran...           0.982498   \n",
       "6  {'randomforestclassifier__max_depth': 20, 'ran...           0.990539   \n",
       "7  {'randomforestclassifier__max_depth': 20, 'ran...           0.990539   \n",
       "8  {'randomforestclassifier__max_depth': 20, 'ran...           0.991958   \n",
       "9  {'randomforestclassifier__max_depth': 20, 'ran...           0.991958   \n",
       "\n",
       "   split1_test_score  split2_test_score  split3_test_score  split4_test_score  \\\n",
       "0           0.982971           0.983444           0.980596           0.982963   \n",
       "1           0.982971           0.983444           0.980596           0.982963   \n",
       "2           0.982971           0.983917           0.979650           0.983436   \n",
       "3           0.982971           0.983917           0.979650           0.983436   \n",
       "4           0.982025           0.982971           0.980123           0.983909   \n",
       "5           0.982025           0.982971           0.980123           0.983909   \n",
       "6           0.991485           0.989120           0.989115           0.991955   \n",
       "7           0.991485           0.989120           0.989115           0.991955   \n",
       "8           0.992904           0.990539           0.989115           0.993374   \n",
       "9           0.992904           0.990539           0.989115           0.993374   \n",
       "\n",
       "   mean_test_score  std_test_score  rank_test_score  \n",
       "0         0.982589        0.001013               19  \n",
       "1         0.982589        0.001013               19  \n",
       "2         0.982210        0.001602               23  \n",
       "3         0.982210        0.001602               23  \n",
       "4         0.982305        0.001256               21  \n",
       "5         0.982305        0.001256               21  \n",
       "6         0.990443        0.001174               17  \n",
       "7         0.990443        0.001174               17  \n",
       "8         0.991578        0.001567               15  \n",
       "9         0.991578        0.001567               15  "
      ]
     },
     "execution_count": 24,
     "metadata": {},
     "output_type": "execute_result"
    }
   ],
   "source": [
    "cv_results = pd.DataFrame(model.cv_results_)\n",
    "cv_results.head(10)"
   ]
  },
  {
   "cell_type": "markdown",
   "id": "a72e9729",
   "metadata": {},
   "source": [
    "Creating a mask for cv_results for rows where \"param_randomforestclassifier__max_depth\" equals 10. Then plot \"param_randomforestclassifier__n_estimators\" on the x-axis and \"mean_fit_time\" on the y-axis. the label your axes and include a title."
   ]
  },
  {
   "cell_type": "code",
   "execution_count": 1,
   "id": "d907c9ce",
   "metadata": {
    "scrolled": false
   },
   "outputs": [
    {
     "ename": "NameError",
     "evalue": "name 'cv_results' is not defined",
     "output_type": "error",
     "traceback": [
      "\u001b[1;31m---------------------------------------------------------------------------\u001b[0m",
      "\u001b[1;31mNameError\u001b[0m                                 Traceback (most recent call last)",
      "\u001b[1;32m~\\AppData\\Local\\Temp\\ipykernel_3928\\3176478095.py\u001b[0m in \u001b[0;36m<module>\u001b[1;34m\u001b[0m\n\u001b[1;32m----> 1\u001b[1;33m \u001b[0mmask\u001b[0m \u001b[1;33m=\u001b[0m \u001b[0mcv_results\u001b[0m\u001b[1;33m[\u001b[0m\u001b[1;34m\"param_randomforestclassifier__max_depth\"\u001b[0m\u001b[1;33m]\u001b[0m \u001b[1;33m==\u001b[0m \u001b[1;36m10\u001b[0m\u001b[1;33m\u001b[0m\u001b[1;33m\u001b[0m\u001b[0m\n\u001b[0m\u001b[0;32m      2\u001b[0m plt.plot(\n\u001b[0;32m      3\u001b[0m     \u001b[0mcv_results\u001b[0m\u001b[1;33m[\u001b[0m\u001b[0mmask\u001b[0m\u001b[1;33m]\u001b[0m\u001b[1;33m[\u001b[0m\u001b[1;34m\"param_randomforestclassifier__n_estimators\"\u001b[0m\u001b[1;33m]\u001b[0m\u001b[1;33m,\u001b[0m\u001b[1;33m\u001b[0m\u001b[1;33m\u001b[0m\u001b[0m\n\u001b[0;32m      4\u001b[0m     \u001b[0mcv_results\u001b[0m\u001b[1;33m[\u001b[0m\u001b[0mmask\u001b[0m\u001b[1;33m]\u001b[0m\u001b[1;33m[\u001b[0m\u001b[1;34m\"mean_fit_time\"\u001b[0m\u001b[1;33m]\u001b[0m\u001b[1;33m\u001b[0m\u001b[1;33m\u001b[0m\u001b[0m\n\u001b[0;32m      5\u001b[0m )\n",
      "\u001b[1;31mNameError\u001b[0m: name 'cv_results' is not defined"
     ]
    }
   ],
   "source": [
    "mask = cv_results[\"param_randomforestclassifier__max_depth\"] == 10\n",
    "plt.plot(\n",
    "    cv_results[mask][\"param_randomforestclassifier__n_estimators\"],\n",
    "    cv_results[mask][\"mean_fit_time\"]\n",
    ")\n",
    "# Label axes\n",
    "plt.xlabel(\"Number of Estimators\")\n",
    "plt.ylabel(\"Mean Fit Time [seconds]\")\n",
    "plt.title(\"Training Time vs Estimators (max_depth=10)\");"
   ]
  },
  {
   "cell_type": "markdown",
   "id": "dcf49506",
   "metadata": {},
   "source": [
    "Creating a mask for cv_results for rows where \"param_randomforestclassifier__n_estimators\" equals 25. Then plot \"param_randomforestclassifier__max_depth\" on the x-axis and \"mean_fit_time\" on the y-axis. label the axes and include a title."
   ]
  },
  {
   "cell_type": "code",
   "execution_count": 26,
   "id": "73812630",
   "metadata": {},
   "outputs": [
    {
     "data": {
      "image/png": "[encoded data removed]",
      "text/plain": [
       "<Figure size 640x480 with 1 Axes>"
      ]
     },
     "metadata": {},
     "output_type": "display_data"
    }
   ],
   "source": [
    "mask = cv_results[\"param_randomforestclassifier__n_estimators\"] == 25\n",
    "plt.plot(\n",
    "    cv_results[mask][\"param_randomforestclassifier__max_depth\"],\n",
    "    cv_results[mask][\"mean_fit_time\"]\n",
    ")\n",
    "# Label axes\n",
    "plt.xlabel(\"max_depth\")\n",
    "plt.ylabel(\"Mean Fit Time [seconds]\")\n",
    "plt.title(\"Training Time vs max_depth (n_estimators=25)\");"
   ]
  },
  {
   "cell_type": "code",
   "execution_count": 47,
   "id": "b2de1511",
   "metadata": {
    "scrolled": true
   },
   "outputs": [
    {
     "data": {
      "text/html": [
       "<div>\n",
       "<style scoped>\n",
       "    .dataframe tbody tr th:only-of-type {\n",
       "        vertical-align: middle;\n",
       "    }\n",
       "\n",
       "    .dataframe tbody tr th {\n",
       "        vertical-align: top;\n",
       "    }\n",
       "\n",
       "    .dataframe thead th {\n",
       "        text-align: right;\n",
       "    }\n",
       "</style>\n",
       "<table border=\"1\" class=\"dataframe\">\n",
       "  <thead>\n",
       "    <tr style=\"text-align: right;\">\n",
       "      <th></th>\n",
       "      <th>mean_fit_time</th>\n",
       "      <th>param_randomforestclassifier__max_depth</th>\n",
       "      <th>param_simpleimputer__strategy</th>\n",
       "    </tr>\n",
       "  </thead>\n",
       "  <tbody>\n",
       "    <tr>\n",
       "      <th>0</th>\n",
       "      <td>2.608908</td>\n",
       "      <td>10</td>\n",
       "      <td>mean</td>\n",
       "    </tr>\n",
       "    <tr>\n",
       "      <th>1</th>\n",
       "      <td>2.892546</td>\n",
       "      <td>10</td>\n",
       "      <td>median</td>\n",
       "    </tr>\n",
       "    <tr>\n",
       "      <th>6</th>\n",
       "      <td>3.572358</td>\n",
       "      <td>20</td>\n",
       "      <td>mean</td>\n",
       "    </tr>\n",
       "    <tr>\n",
       "      <th>7</th>\n",
       "      <td>3.950541</td>\n",
       "      <td>20</td>\n",
       "      <td>median</td>\n",
       "    </tr>\n",
       "    <tr>\n",
       "      <th>12</th>\n",
       "      <td>4.241176</td>\n",
       "      <td>30</td>\n",
       "      <td>mean</td>\n",
       "    </tr>\n",
       "    <tr>\n",
       "      <th>13</th>\n",
       "      <td>4.642945</td>\n",
       "      <td>30</td>\n",
       "      <td>median</td>\n",
       "    </tr>\n",
       "    <tr>\n",
       "      <th>18</th>\n",
       "      <td>4.376498</td>\n",
       "      <td>40</td>\n",
       "      <td>mean</td>\n",
       "    </tr>\n",
       "    <tr>\n",
       "      <th>19</th>\n",
       "      <td>4.659936</td>\n",
       "      <td>40</td>\n",
       "      <td>median</td>\n",
       "    </tr>\n",
       "  </tbody>\n",
       "</table>\n",
       "</div>"
      ],
      "text/plain": [
       "    mean_fit_time param_randomforestclassifier__max_depth  \\\n",
       "0        2.608908                                      10   \n",
       "1        2.892546                                      10   \n",
       "6        3.572358                                      20   \n",
       "7        3.950541                                      20   \n",
       "12       4.241176                                      30   \n",
       "13       4.642945                                      30   \n",
       "18       4.376498                                      40   \n",
       "19       4.659936                                      40   \n",
       "\n",
       "   param_simpleimputer__strategy  \n",
       "0                           mean  \n",
       "1                         median  \n",
       "6                           mean  \n",
       "7                         median  \n",
       "12                          mean  \n",
       "13                        median  \n",
       "18                          mean  \n",
       "19                        median  "
      ]
     },
     "execution_count": 47,
     "metadata": {},
     "output_type": "execute_result"
    }
   ],
   "source": [
    "cv_results[mask][[\"mean_fit_time\", \"param_randomforestclassifier__max_depth\", \"param_simpleimputer__strategy\"]]"
   ]
  },
  {
   "cell_type": "code",
   "execution_count": 27,
   "id": "7d5a5cd4",
   "metadata": {},
   "outputs": [
    {
     "data": {
      "text/plain": [
       "{'randomforestclassifier__max_depth': 40,\n",
       " 'randomforestclassifier__n_estimators': 50,\n",
       " 'simpleimputer__strategy': 'mean'}"
      ]
     },
     "execution_count": 27,
     "metadata": {},
     "output_type": "execute_result"
    }
   ],
   "source": [
    "model.best_params_"
   ]
  },
  {
   "cell_type": "code",
   "execution_count": 28,
   "id": "ab5d5712",
   "metadata": {},
   "outputs": [
    {
     "data": {
      "text/plain": [
       "0.9953632533834563"
      ]
     },
     "execution_count": 28,
     "metadata": {},
     "output_type": "execute_result"
    }
   ],
   "source": [
    "model.best_score_"
   ]
  },
  {
   "cell_type": "markdown",
   "id": "30bf3423",
   "metadata": {},
   "source": [
    "### Evaluate\n",
    "All right: The moment of truth. Let's see how our model performs.\n",
    "\n",
    "Calculate the training and test accuracy scores for model."
   ]
  },
  {
   "cell_type": "code",
   "execution_count": 31,
   "id": "ac4ce36c",
   "metadata": {
    "scrolled": true
   },
   "outputs": [
    {
     "name": "stdout",
     "output_type": "stream",
     "text": [
      "training accuracy: 1.0\n",
      "test accuracy: 0.967\n"
     ]
    }
   ],
   "source": [
    "acc_train = model.score(X_train, y_train)\n",
    "acc_test = model.score(X_test, y_test)\n",
    "\n",
    "print(\"training accuracy:\", acc_train.round(4))\n",
    "print(\"test accuracy:\", acc_test.round(4))"
   ]
  },
  {
   "cell_type": "markdown",
   "id": "6a37d3a2",
   "metadata": {},
   "source": [
    "Plot a confusion matrix that shows how the best model performs on your test set."
   ]
  },
  {
   "cell_type": "code",
   "execution_count": 30,
   "id": "68347547",
   "metadata": {},
   "outputs": [
    {
     "data": {
      "text/plain": [
       "<sklearn.metrics._plot.confusion_matrix.ConfusionMatrixDisplay at 0x187b30920b0>"
      ]
     },
     "execution_count": 30,
     "metadata": {},
     "output_type": "execute_result"
    },
    {
     "data": {
      "image/png": "[encoded data removed]",
      "text/plain": [
       "<Figure size 640x480 with 2 Axes>"
      ]
     },
     "metadata": {},
     "output_type": "display_data"
    }
   ],
   "source": [
    "ConfusionMatrixDisplay.from_estimator(model, X_test, y_test)"
   ]
  },
  {
   "cell_type": "markdown",
   "id": "a8515a6a",
   "metadata": {},
   "source": [
    "Create a horizontal bar chart with the 10 most important features for your model."
   ]
  },
  {
   "cell_type": "code",
   "execution_count": 56,
   "id": "65a7f4a0",
   "metadata": {},
   "outputs": [],
   "source": [
    "feature = X_train_over.columns\n",
    "importances = model.best_estimator_.named_steps[\"randomforestclassifier\"].feature_importances_"
   ]
  },
  {
   "cell_type": "code",
   "execution_count": 57,
   "id": "1738b3ed",
   "metadata": {},
   "outputs": [],
   "source": [
    "feat_imp = pd.Series(importances, index=feature).sort_values()"
   ]
  },
  {
   "cell_type": "code",
   "execution_count": 58,
   "id": "e4799c97",
   "metadata": {},
   "outputs": [
    {
     "data": {
      "image/png": "[encoded data removed]",
      "text/plain": [
       "<Figure size 640x480 with 1 Axes>"
      ]
     },
     "metadata": {},
     "output_type": "display_data"
    }
   ],
   "source": [
    "feat_imp.tail(20).plot(kind=\"barh\");"
   ]
  },
  {
   "cell_type": "code",
   "execution_count": null,
   "id": "4a13635b",
   "metadata": {},
   "outputs": [],
   "source": []
  }
 ],
 "metadata": {
  "kernelspec": {
   "display_name": "Python 3 (ipykernel)",
   "language": "python",
   "name": "python3"
  },
  "language_info": {
   "codemirror_mode": {
    "name": "ipython",
    "version": 3
   },
   "file_extension": ".py",
   "mimetype": "text/x-python",
   "name": "python",
   "nbconvert_exporter": "python",
   "pygments_lexer": "ipython3",
   "version": "3.9.13"
  }
 },
 "nbformat": 4,
 "nbformat_minor": 5
}
